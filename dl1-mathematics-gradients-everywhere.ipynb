{
 "cells": [
  {
   "cell_type": "code",
   "execution_count": 1,
   "id": "c51a9cc0",
   "metadata": {
    "_cell_guid": "b1076dfc-b9ad-4769-8c92-a6c4dae69d19",
    "_uuid": "8f2839f25d086af736a60e9eeb907d3b93b6e0e5",
    "execution": {
     "iopub.execute_input": "2024-03-16T15:16:03.937016Z",
     "iopub.status.busy": "2024-03-16T15:16:03.935952Z",
     "iopub.status.idle": "2024-03-16T15:16:08.461243Z",
     "shell.execute_reply": "2024-03-16T15:16:08.460172Z"
    },
    "papermill": {
     "duration": 4.532929,
     "end_time": "2024-03-16T15:16:08.463831",
     "exception": false,
     "start_time": "2024-03-16T15:16:03.930902",
     "status": "completed"
    },
    "tags": []
   },
   "outputs": [],
   "source": [
    "import numpy as np                # linear algebra\n",
    "import pandas as pd               # data processing\n",
    "import matplotlib.pyplot as plt   # visualisations\n",
    "\n",
    "import torch                      # PyTorch"
   ]
  },
  {
   "cell_type": "code",
   "execution_count": 2,
   "id": "bcf820c9",
   "metadata": {
    "execution": {
     "iopub.execute_input": "2024-03-16T15:16:08.472030Z",
     "iopub.status.busy": "2024-03-16T15:16:08.471520Z",
     "iopub.status.idle": "2024-03-16T15:16:08.517613Z",
     "shell.execute_reply": "2024-03-16T15:16:08.516242Z"
    },
    "papermill": {
     "duration": 0.052895,
     "end_time": "2024-03-16T15:16:08.520068",
     "exception": false,
     "start_time": "2024-03-16T15:16:08.467173",
     "status": "completed"
    },
    "tags": []
   },
   "outputs": [
    {
     "data": {
      "text/html": [
       "<div>\n",
       "<style scoped>\n",
       "    .dataframe tbody tr th:only-of-type {\n",
       "        vertical-align: middle;\n",
       "    }\n",
       "\n",
       "    .dataframe tbody tr th {\n",
       "        vertical-align: top;\n",
       "    }\n",
       "\n",
       "    .dataframe thead th {\n",
       "        text-align: right;\n",
       "    }\n",
       "</style>\n",
       "<table border=\"1\" class=\"dataframe\">\n",
       "  <thead>\n",
       "    <tr style=\"text-align: right;\">\n",
       "      <th></th>\n",
       "      <th>Eleve</th>\n",
       "      <th>Mathematiques</th>\n",
       "      <th>Physique</th>\n",
       "      <th>Informatique</th>\n",
       "      <th>LV1</th>\n",
       "      <th>LV2</th>\n",
       "      <th>Biologie</th>\n",
       "      <th>Chimie</th>\n",
       "    </tr>\n",
       "  </thead>\n",
       "  <tbody>\n",
       "    <tr>\n",
       "      <th>0</th>\n",
       "      <td>E01</td>\n",
       "      <td>12.6</td>\n",
       "      <td>10.6</td>\n",
       "      <td>14.2</td>\n",
       "      <td>12.3</td>\n",
       "      <td>10.2</td>\n",
       "      <td>9.3</td>\n",
       "      <td>7.7</td>\n",
       "    </tr>\n",
       "    <tr>\n",
       "      <th>1</th>\n",
       "      <td>E02</td>\n",
       "      <td>13.9</td>\n",
       "      <td>12.9</td>\n",
       "      <td>17.9</td>\n",
       "      <td>12.8</td>\n",
       "      <td>8.8</td>\n",
       "      <td>12.0</td>\n",
       "      <td>10.9</td>\n",
       "    </tr>\n",
       "    <tr>\n",
       "      <th>2</th>\n",
       "      <td>E03</td>\n",
       "      <td>11.3</td>\n",
       "      <td>10.2</td>\n",
       "      <td>10.6</td>\n",
       "      <td>10.4</td>\n",
       "      <td>5.4</td>\n",
       "      <td>9.4</td>\n",
       "      <td>7.0</td>\n",
       "    </tr>\n",
       "    <tr>\n",
       "      <th>3</th>\n",
       "      <td>E04</td>\n",
       "      <td>10.8</td>\n",
       "      <td>12.2</td>\n",
       "      <td>7.7</td>\n",
       "      <td>13.2</td>\n",
       "      <td>4.8</td>\n",
       "      <td>11.1</td>\n",
       "      <td>10.6</td>\n",
       "    </tr>\n",
       "    <tr>\n",
       "      <th>4</th>\n",
       "      <td>E05</td>\n",
       "      <td>11.8</td>\n",
       "      <td>11.3</td>\n",
       "      <td>9.6</td>\n",
       "      <td>11.7</td>\n",
       "      <td>10.4</td>\n",
       "      <td>9.9</td>\n",
       "      <td>7.6</td>\n",
       "    </tr>\n",
       "    <tr>\n",
       "      <th>5</th>\n",
       "      <td>E06</td>\n",
       "      <td>11.9</td>\n",
       "      <td>11.5</td>\n",
       "      <td>13.9</td>\n",
       "      <td>14.1</td>\n",
       "      <td>8.5</td>\n",
       "      <td>9.3</td>\n",
       "      <td>10.3</td>\n",
       "    </tr>\n",
       "    <tr>\n",
       "      <th>6</th>\n",
       "      <td>E07</td>\n",
       "      <td>11.0</td>\n",
       "      <td>11.7</td>\n",
       "      <td>10.1</td>\n",
       "      <td>13.4</td>\n",
       "      <td>13.5</td>\n",
       "      <td>6.3</td>\n",
       "      <td>7.5</td>\n",
       "    </tr>\n",
       "    <tr>\n",
       "      <th>7</th>\n",
       "      <td>E08</td>\n",
       "      <td>10.4</td>\n",
       "      <td>9.2</td>\n",
       "      <td>12.8</td>\n",
       "      <td>6.8</td>\n",
       "      <td>5.1</td>\n",
       "      <td>6.7</td>\n",
       "      <td>7.3</td>\n",
       "    </tr>\n",
       "    <tr>\n",
       "      <th>8</th>\n",
       "      <td>E09</td>\n",
       "      <td>10.1</td>\n",
       "      <td>8.7</td>\n",
       "      <td>11.0</td>\n",
       "      <td>16.2</td>\n",
       "      <td>13.2</td>\n",
       "      <td>9.4</td>\n",
       "      <td>6.3</td>\n",
       "    </tr>\n",
       "    <tr>\n",
       "      <th>9</th>\n",
       "      <td>E10</td>\n",
       "      <td>10.2</td>\n",
       "      <td>7.8</td>\n",
       "      <td>13.9</td>\n",
       "      <td>10.0</td>\n",
       "      <td>3.6</td>\n",
       "      <td>9.4</td>\n",
       "      <td>8.2</td>\n",
       "    </tr>\n",
       "  </tbody>\n",
       "</table>\n",
       "</div>"
      ],
      "text/plain": [
       "  Eleve  Mathematiques  Physique  Informatique   LV1   LV2  Biologie  Chimie\n",
       "0   E01           12.6      10.6          14.2  12.3  10.2       9.3     7.7\n",
       "1   E02           13.9      12.9          17.9  12.8   8.8      12.0    10.9\n",
       "2   E03           11.3      10.2          10.6  10.4   5.4       9.4     7.0\n",
       "3   E04           10.8      12.2           7.7  13.2   4.8      11.1    10.6\n",
       "4   E05           11.8      11.3           9.6  11.7  10.4       9.9     7.6\n",
       "5   E06           11.9      11.5          13.9  14.1   8.5       9.3    10.3\n",
       "6   E07           11.0      11.7          10.1  13.4  13.5       6.3     7.5\n",
       "7   E08           10.4       9.2          12.8   6.8   5.1       6.7     7.3\n",
       "8   E09           10.1       8.7          11.0  16.2  13.2       9.4     6.3\n",
       "9   E10           10.2       7.8          13.9  10.0   3.6       9.4     8.2"
      ]
     },
     "execution_count": 2,
     "metadata": {},
     "output_type": "execute_result"
    }
   ],
   "source": [
    "data = pd.read_csv(\"/kaggle/input/notes-table/table notes.png.csv\")\n",
    "data"
   ]
  },
  {
   "cell_type": "code",
   "execution_count": 3,
   "id": "bf85ed70",
   "metadata": {
    "execution": {
     "iopub.execute_input": "2024-03-16T15:16:08.530698Z",
     "iopub.status.busy": "2024-03-16T15:16:08.530308Z",
     "iopub.status.idle": "2024-03-16T15:16:08.540884Z",
     "shell.execute_reply": "2024-03-16T15:16:08.540079Z"
    },
    "papermill": {
     "duration": 0.017792,
     "end_time": "2024-03-16T15:16:08.542908",
     "exception": false,
     "start_time": "2024-03-16T15:16:08.525116",
     "status": "completed"
    },
    "tags": []
   },
   "outputs": [
    {
     "data": {
      "text/plain": [
       "['Mathematiques',\n",
       " 'Physique',\n",
       " 'Informatique',\n",
       " 'LV1',\n",
       " 'LV2',\n",
       " 'Biologie',\n",
       " 'Chimie']"
      ]
     },
     "execution_count": 3,
     "metadata": {},
     "output_type": "execute_result"
    }
   ],
   "source": [
    "data.pop(\"Eleve\")\n",
    "subjects = list(data.keys())\n",
    "subjects"
   ]
  },
  {
   "cell_type": "code",
   "execution_count": 4,
   "id": "9418f87d",
   "metadata": {
    "execution": {
     "iopub.execute_input": "2024-03-16T15:16:08.552467Z",
     "iopub.status.busy": "2024-03-16T15:16:08.551253Z",
     "iopub.status.idle": "2024-03-16T15:16:08.559937Z",
     "shell.execute_reply": "2024-03-16T15:16:08.558684Z"
    },
    "papermill": {
     "duration": 0.015956,
     "end_time": "2024-03-16T15:16:08.562522",
     "exception": false,
     "start_time": "2024-03-16T15:16:08.546566",
     "status": "completed"
    },
    "tags": []
   },
   "outputs": [
    {
     "data": {
      "text/plain": [
       "array([[12.6, 10.6, 14.2, 12.3, 10.2,  9.3,  7.7],\n",
       "       [13.9, 12.9, 17.9, 12.8,  8.8, 12. , 10.9],\n",
       "       [11.3, 10.2, 10.6, 10.4,  5.4,  9.4,  7. ],\n",
       "       [10.8, 12.2,  7.7, 13.2,  4.8, 11.1, 10.6],\n",
       "       [11.8, 11.3,  9.6, 11.7, 10.4,  9.9,  7.6],\n",
       "       [11.9, 11.5, 13.9, 14.1,  8.5,  9.3, 10.3],\n",
       "       [11. , 11.7, 10.1, 13.4, 13.5,  6.3,  7.5],\n",
       "       [10.4,  9.2, 12.8,  6.8,  5.1,  6.7,  7.3],\n",
       "       [10.1,  8.7, 11. , 16.2, 13.2,  9.4,  6.3],\n",
       "       [10.2,  7.8, 13.9, 10. ,  3.6,  9.4,  8.2]])"
      ]
     },
     "execution_count": 4,
     "metadata": {},
     "output_type": "execute_result"
    }
   ],
   "source": [
    "notes = data.to_numpy()\n",
    "notes"
   ]
  },
  {
   "cell_type": "code",
   "execution_count": 5,
   "id": "6b4b441f",
   "metadata": {
    "execution": {
     "iopub.execute_input": "2024-03-16T15:16:08.571398Z",
     "iopub.status.busy": "2024-03-16T15:16:08.571020Z",
     "iopub.status.idle": "2024-03-16T15:16:08.673227Z",
     "shell.execute_reply": "2024-03-16T15:16:08.672051Z"
    },
    "papermill": {
     "duration": 0.109761,
     "end_time": "2024-03-16T15:16:08.675987",
     "exception": false,
     "start_time": "2024-03-16T15:16:08.566226",
     "status": "completed"
    },
    "tags": []
   },
   "outputs": [
    {
     "data": {
      "text/plain": [
       "tensor([[12.6000, 10.6000, 14.2000, 12.3000, 10.2000,  9.3000,  7.7000],\n",
       "        [13.9000, 12.9000, 17.9000, 12.8000,  8.8000, 12.0000, 10.9000],\n",
       "        [11.3000, 10.2000, 10.6000, 10.4000,  5.4000,  9.4000,  7.0000],\n",
       "        [10.8000, 12.2000,  7.7000, 13.2000,  4.8000, 11.1000, 10.6000],\n",
       "        [11.8000, 11.3000,  9.6000, 11.7000, 10.4000,  9.9000,  7.6000],\n",
       "        [11.9000, 11.5000, 13.9000, 14.1000,  8.5000,  9.3000, 10.3000],\n",
       "        [11.0000, 11.7000, 10.1000, 13.4000, 13.5000,  6.3000,  7.5000],\n",
       "        [10.4000,  9.2000, 12.8000,  6.8000,  5.1000,  6.7000,  7.3000],\n",
       "        [10.1000,  8.7000, 11.0000, 16.2000, 13.2000,  9.4000,  6.3000],\n",
       "        [10.2000,  7.8000, 13.9000, 10.0000,  3.6000,  9.4000,  8.2000]],\n",
       "       dtype=torch.float64)"
      ]
     },
     "execution_count": 5,
     "metadata": {},
     "output_type": "execute_result"
    }
   ],
   "source": [
    "notes_pt = torch.tensor(notes, dtype=torch.float64)\n",
    "notes_pt"
   ]
  },
  {
   "cell_type": "code",
   "execution_count": 6,
   "id": "6a071470",
   "metadata": {
    "execution": {
     "iopub.execute_input": "2024-03-16T15:16:08.685611Z",
     "iopub.status.busy": "2024-03-16T15:16:08.685211Z",
     "iopub.status.idle": "2024-03-16T15:16:08.695980Z",
     "shell.execute_reply": "2024-03-16T15:16:08.694885Z"
    },
    "papermill": {
     "duration": 0.018971,
     "end_time": "2024-03-16T15:16:08.698680",
     "exception": false,
     "start_time": "2024-03-16T15:16:08.679709",
     "status": "completed"
    },
    "tags": []
   },
   "outputs": [],
   "source": [
    "# define activation function\n",
    "activation_fct_relu = torch.nn.ReLU()\n",
    "\n",
    "# define dense layer and it parameters(7 input features; 2 output features)\n",
    "linear_filter = torch.nn.Linear(7, 2, bias=True)"
   ]
  },
  {
   "cell_type": "code",
   "execution_count": 7,
   "id": "865e33a8",
   "metadata": {
    "execution": {
     "iopub.execute_input": "2024-03-16T15:16:08.708013Z",
     "iopub.status.busy": "2024-03-16T15:16:08.707656Z",
     "iopub.status.idle": "2024-03-16T15:16:08.713537Z",
     "shell.execute_reply": "2024-03-16T15:16:08.712490Z"
    },
    "papermill": {
     "duration": 0.013468,
     "end_time": "2024-03-16T15:16:08.715948",
     "exception": false,
     "start_time": "2024-03-16T15:16:08.702480",
     "status": "completed"
    },
    "tags": []
   },
   "outputs": [],
   "source": [
    "linear_filter.weight.data = torch.tensor([[0.2, 0.2, 0.2, 0.0, 0.0, 0.2, 0.2],\n",
    "                                         [0.0, 0.0, 0.0, 0.5, 0.5, 0.0, 0.0]], \n",
    "                                        dtype=torch.float64)\n",
    "linear_filter.bias.data   = torch.tensor([-10, -10], dtype=torch.float64)"
   ]
  },
  {
   "cell_type": "code",
   "execution_count": 8,
   "id": "88368aca",
   "metadata": {
    "execution": {
     "iopub.execute_input": "2024-03-16T15:16:08.727421Z",
     "iopub.status.busy": "2024-03-16T15:16:08.726240Z",
     "iopub.status.idle": "2024-03-16T15:16:08.750818Z",
     "shell.execute_reply": "2024-03-16T15:16:08.749379Z"
    },
    "papermill": {
     "duration": 0.032754,
     "end_time": "2024-03-16T15:16:08.753054",
     "exception": false,
     "start_time": "2024-03-16T15:16:08.720300",
     "status": "completed"
    },
    "tags": []
   },
   "outputs": [
    {
     "name": "stdout",
     "output_type": "stream",
     "text": [
      "tensor([[0.8800, 1.2500],\n",
      "        [3.5200, 0.8000],\n",
      "        [0.0000, 0.0000],\n",
      "        [0.4800, 0.0000],\n",
      "        [0.0400, 1.0500],\n",
      "        [1.3800, 1.3000],\n",
      "        [0.0000, 3.4500],\n",
      "        [0.0000, 0.0000],\n",
      "        [0.0000, 4.7000],\n",
      "        [0.0000, 0.0000]], dtype=torch.float64, grad_fn=<ReluBackward0>)\n"
     ]
    }
   ],
   "source": [
    "filtered_data = activation_fct_relu(linear_filter(notes_pt[:,:]))\n",
    "print(filtered_data)"
   ]
  },
  {
   "cell_type": "code",
   "execution_count": null,
   "id": "0c1d2add",
   "metadata": {
    "papermill": {
     "duration": 0.003364,
     "end_time": "2024-03-16T15:16:08.760148",
     "exception": false,
     "start_time": "2024-03-16T15:16:08.756784",
     "status": "completed"
    },
    "tags": []
   },
   "outputs": [],
   "source": []
  }
 ],
 "metadata": {
  "kaggle": {
   "accelerator": "none",
   "dataSources": [
    {
     "datasetId": 4607456,
     "sourceId": 7855556,
     "sourceType": "datasetVersion"
    }
   ],
   "dockerImageVersionId": 30664,
   "isGpuEnabled": false,
   "isInternetEnabled": true,
   "language": "python",
   "sourceType": "notebook"
  },
  "kernelspec": {
   "display_name": "Python 3",
   "language": "python",
   "name": "python3"
  },
  "language_info": {
   "codemirror_mode": {
    "name": "ipython",
    "version": 3
   },
   "file_extension": ".py",
   "mimetype": "text/x-python",
   "name": "python",
   "nbconvert_exporter": "python",
   "pygments_lexer": "ipython3",
   "version": "3.10.13"
  },
  "papermill": {
   "default_parameters": {},
   "duration": 8.608892,
   "end_time": "2024-03-16T15:16:09.685495",
   "environment_variables": {},
   "exception": null,
   "input_path": "__notebook__.ipynb",
   "output_path": "__notebook__.ipynb",
   "parameters": {},
   "start_time": "2024-03-16T15:16:01.076603",
   "version": "2.5.0"
  }
 },
 "nbformat": 4,
 "nbformat_minor": 5
}
