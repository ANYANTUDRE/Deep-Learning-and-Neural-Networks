{
 "cells": [
  {
   "cell_type": "code",
   "execution_count": 1,
   "id": "c5897879",
   "metadata": {
    "_cell_guid": "b1076dfc-b9ad-4769-8c92-a6c4dae69d19",
    "_uuid": "8f2839f25d086af736a60e9eeb907d3b93b6e0e5",
    "execution": {
     "iopub.execute_input": "2024-03-16T00:17:25.619418Z",
     "iopub.status.busy": "2024-03-16T00:17:25.618629Z",
     "iopub.status.idle": "2024-03-16T00:17:30.374050Z",
     "shell.execute_reply": "2024-03-16T00:17:30.373104Z"
    },
    "papermill": {
     "duration": 4.765553,
     "end_time": "2024-03-16T00:17:30.377124",
     "exception": false,
     "start_time": "2024-03-16T00:17:25.611571",
     "status": "completed"
    },
    "tags": []
   },
   "outputs": [],
   "source": [
    "import numpy as np                # linear algebra\n",
    "import pandas as pd               # data processing\n",
    "import matplotlib.pyplot as plt   # visualisations\n",
    "\n",
    "import torch"
   ]
  },
  {
   "cell_type": "code",
   "execution_count": 2,
   "id": "752b59bd",
   "metadata": {
    "execution": {
     "iopub.execute_input": "2024-03-16T00:17:30.388936Z",
     "iopub.status.busy": "2024-03-16T00:17:30.388309Z",
     "iopub.status.idle": "2024-03-16T00:17:30.432976Z",
     "shell.execute_reply": "2024-03-16T00:17:30.431755Z"
    },
    "papermill": {
     "duration": 0.053714,
     "end_time": "2024-03-16T00:17:30.435873",
     "exception": false,
     "start_time": "2024-03-16T00:17:30.382159",
     "status": "completed"
    },
    "tags": []
   },
   "outputs": [
    {
     "data": {
      "text/html": [
       "<div>\n",
       "<style scoped>\n",
       "    .dataframe tbody tr th:only-of-type {\n",
       "        vertical-align: middle;\n",
       "    }\n",
       "\n",
       "    .dataframe tbody tr th {\n",
       "        vertical-align: top;\n",
       "    }\n",
       "\n",
       "    .dataframe thead th {\n",
       "        text-align: right;\n",
       "    }\n",
       "</style>\n",
       "<table border=\"1\" class=\"dataframe\">\n",
       "  <thead>\n",
       "    <tr style=\"text-align: right;\">\n",
       "      <th></th>\n",
       "      <th>Eleve</th>\n",
       "      <th>Mathematiques</th>\n",
       "      <th>Physique</th>\n",
       "      <th>Informatique</th>\n",
       "      <th>LV1</th>\n",
       "      <th>LV2</th>\n",
       "      <th>Biologie</th>\n",
       "      <th>Chimie</th>\n",
       "    </tr>\n",
       "  </thead>\n",
       "  <tbody>\n",
       "    <tr>\n",
       "      <th>0</th>\n",
       "      <td>E01</td>\n",
       "      <td>12.6</td>\n",
       "      <td>10.6</td>\n",
       "      <td>14.2</td>\n",
       "      <td>12.3</td>\n",
       "      <td>10.2</td>\n",
       "      <td>9.3</td>\n",
       "      <td>7.7</td>\n",
       "    </tr>\n",
       "    <tr>\n",
       "      <th>1</th>\n",
       "      <td>E02</td>\n",
       "      <td>13.9</td>\n",
       "      <td>12.9</td>\n",
       "      <td>17.9</td>\n",
       "      <td>12.8</td>\n",
       "      <td>8.8</td>\n",
       "      <td>12.0</td>\n",
       "      <td>10.9</td>\n",
       "    </tr>\n",
       "    <tr>\n",
       "      <th>2</th>\n",
       "      <td>E03</td>\n",
       "      <td>11.3</td>\n",
       "      <td>10.2</td>\n",
       "      <td>10.6</td>\n",
       "      <td>10.4</td>\n",
       "      <td>5.4</td>\n",
       "      <td>9.4</td>\n",
       "      <td>7.0</td>\n",
       "    </tr>\n",
       "    <tr>\n",
       "      <th>3</th>\n",
       "      <td>E04</td>\n",
       "      <td>10.8</td>\n",
       "      <td>12.2</td>\n",
       "      <td>7.7</td>\n",
       "      <td>13.2</td>\n",
       "      <td>4.8</td>\n",
       "      <td>11.1</td>\n",
       "      <td>10.6</td>\n",
       "    </tr>\n",
       "    <tr>\n",
       "      <th>4</th>\n",
       "      <td>E05</td>\n",
       "      <td>11.8</td>\n",
       "      <td>11.3</td>\n",
       "      <td>9.6</td>\n",
       "      <td>11.7</td>\n",
       "      <td>10.4</td>\n",
       "      <td>9.9</td>\n",
       "      <td>7.6</td>\n",
       "    </tr>\n",
       "    <tr>\n",
       "      <th>5</th>\n",
       "      <td>E06</td>\n",
       "      <td>11.9</td>\n",
       "      <td>11.5</td>\n",
       "      <td>13.9</td>\n",
       "      <td>14.1</td>\n",
       "      <td>8.5</td>\n",
       "      <td>9.3</td>\n",
       "      <td>10.3</td>\n",
       "    </tr>\n",
       "    <tr>\n",
       "      <th>6</th>\n",
       "      <td>E07</td>\n",
       "      <td>11.0</td>\n",
       "      <td>11.7</td>\n",
       "      <td>10.1</td>\n",
       "      <td>13.4</td>\n",
       "      <td>13.5</td>\n",
       "      <td>6.3</td>\n",
       "      <td>7.5</td>\n",
       "    </tr>\n",
       "    <tr>\n",
       "      <th>7</th>\n",
       "      <td>E08</td>\n",
       "      <td>10.4</td>\n",
       "      <td>9.2</td>\n",
       "      <td>12.8</td>\n",
       "      <td>6.8</td>\n",
       "      <td>5.1</td>\n",
       "      <td>6.7</td>\n",
       "      <td>7.3</td>\n",
       "    </tr>\n",
       "    <tr>\n",
       "      <th>8</th>\n",
       "      <td>E09</td>\n",
       "      <td>10.1</td>\n",
       "      <td>8.7</td>\n",
       "      <td>11.0</td>\n",
       "      <td>16.2</td>\n",
       "      <td>13.2</td>\n",
       "      <td>9.4</td>\n",
       "      <td>6.3</td>\n",
       "    </tr>\n",
       "    <tr>\n",
       "      <th>9</th>\n",
       "      <td>E10</td>\n",
       "      <td>10.2</td>\n",
       "      <td>7.8</td>\n",
       "      <td>13.9</td>\n",
       "      <td>10.0</td>\n",
       "      <td>3.6</td>\n",
       "      <td>9.4</td>\n",
       "      <td>8.2</td>\n",
       "    </tr>\n",
       "  </tbody>\n",
       "</table>\n",
       "</div>"
      ],
      "text/plain": [
       "  Eleve  Mathematiques  Physique  Informatique   LV1   LV2  Biologie  Chimie\n",
       "0   E01           12.6      10.6          14.2  12.3  10.2       9.3     7.7\n",
       "1   E02           13.9      12.9          17.9  12.8   8.8      12.0    10.9\n",
       "2   E03           11.3      10.2          10.6  10.4   5.4       9.4     7.0\n",
       "3   E04           10.8      12.2           7.7  13.2   4.8      11.1    10.6\n",
       "4   E05           11.8      11.3           9.6  11.7  10.4       9.9     7.6\n",
       "5   E06           11.9      11.5          13.9  14.1   8.5       9.3    10.3\n",
       "6   E07           11.0      11.7          10.1  13.4  13.5       6.3     7.5\n",
       "7   E08           10.4       9.2          12.8   6.8   5.1       6.7     7.3\n",
       "8   E09           10.1       8.7          11.0  16.2  13.2       9.4     6.3\n",
       "9   E10           10.2       7.8          13.9  10.0   3.6       9.4     8.2"
      ]
     },
     "execution_count": 2,
     "metadata": {},
     "output_type": "execute_result"
    }
   ],
   "source": [
    "data = pd.read_csv(\"/kaggle/input/notes-table/table notes.png.csv\")\n",
    "data"
   ]
  },
  {
   "cell_type": "code",
   "execution_count": 3,
   "id": "057fe7b5",
   "metadata": {
    "execution": {
     "iopub.execute_input": "2024-03-16T00:17:30.448004Z",
     "iopub.status.busy": "2024-03-16T00:17:30.447576Z",
     "iopub.status.idle": "2024-03-16T00:17:30.460275Z",
     "shell.execute_reply": "2024-03-16T00:17:30.459072Z"
    },
    "papermill": {
     "duration": 0.022543,
     "end_time": "2024-03-16T00:17:30.463535",
     "exception": false,
     "start_time": "2024-03-16T00:17:30.440992",
     "status": "completed"
    },
    "tags": []
   },
   "outputs": [
    {
     "data": {
      "text/plain": [
       "0    E01\n",
       "1    E02\n",
       "2    E03\n",
       "3    E04\n",
       "4    E05\n",
       "5    E06\n",
       "6    E07\n",
       "7    E08\n",
       "8    E09\n",
       "9    E10\n",
       "Name: Eleve, dtype: object"
      ]
     },
     "execution_count": 3,
     "metadata": {},
     "output_type": "execute_result"
    }
   ],
   "source": [
    "data.pop(\"Eleve\")"
   ]
  },
  {
   "cell_type": "code",
   "execution_count": 4,
   "id": "f2cb4e21",
   "metadata": {
    "execution": {
     "iopub.execute_input": "2024-03-16T00:17:30.476233Z",
     "iopub.status.busy": "2024-03-16T00:17:30.475782Z",
     "iopub.status.idle": "2024-03-16T00:17:30.481547Z",
     "shell.execute_reply": "2024-03-16T00:17:30.480622Z"
    },
    "papermill": {
     "duration": 0.015483,
     "end_time": "2024-03-16T00:17:30.484272",
     "exception": false,
     "start_time": "2024-03-16T00:17:30.468789",
     "status": "completed"
    },
    "tags": []
   },
   "outputs": [
    {
     "name": "stdout",
     "output_type": "stream",
     "text": [
      "['Mathematiques', 'Physique', 'Informatique', 'LV1', 'LV2', 'Biologie', 'Chimie']\n"
     ]
    }
   ],
   "source": [
    "Subjects = list(data.keys())\n",
    "print(Subjects)"
   ]
  },
  {
   "cell_type": "code",
   "execution_count": 5,
   "id": "c6b96c8e",
   "metadata": {
    "execution": {
     "iopub.execute_input": "2024-03-16T00:17:30.497245Z",
     "iopub.status.busy": "2024-03-16T00:17:30.495878Z",
     "iopub.status.idle": "2024-03-16T00:17:30.505984Z",
     "shell.execute_reply": "2024-03-16T00:17:30.504317Z"
    },
    "papermill": {
     "duration": 0.019855,
     "end_time": "2024-03-16T00:17:30.509197",
     "exception": false,
     "start_time": "2024-03-16T00:17:30.489342",
     "status": "completed"
    },
    "tags": []
   },
   "outputs": [
    {
     "name": "stdout",
     "output_type": "stream",
     "text": [
      "[[12.6 10.6 14.2 12.3 10.2  9.3  7.7]\n",
      " [13.9 12.9 17.9 12.8  8.8 12.  10.9]\n",
      " [11.3 10.2 10.6 10.4  5.4  9.4  7. ]\n",
      " [10.8 12.2  7.7 13.2  4.8 11.1 10.6]\n",
      " [11.8 11.3  9.6 11.7 10.4  9.9  7.6]\n",
      " [11.9 11.5 13.9 14.1  8.5  9.3 10.3]\n",
      " [11.  11.7 10.1 13.4 13.5  6.3  7.5]\n",
      " [10.4  9.2 12.8  6.8  5.1  6.7  7.3]\n",
      " [10.1  8.7 11.  16.2 13.2  9.4  6.3]\n",
      " [10.2  7.8 13.9 10.   3.6  9.4  8.2]]\n"
     ]
    }
   ],
   "source": [
    "Notes = data.to_numpy()\n",
    "print(Notes)"
   ]
  },
  {
   "cell_type": "code",
   "execution_count": 6,
   "id": "a27e23d5",
   "metadata": {
    "execution": {
     "iopub.execute_input": "2024-03-16T00:17:30.521713Z",
     "iopub.status.busy": "2024-03-16T00:17:30.521281Z",
     "iopub.status.idle": "2024-03-16T00:17:30.629132Z",
     "shell.execute_reply": "2024-03-16T00:17:30.627646Z"
    },
    "papermill": {
     "duration": 0.117389,
     "end_time": "2024-03-16T00:17:30.631985",
     "exception": false,
     "start_time": "2024-03-16T00:17:30.514596",
     "status": "completed"
    },
    "tags": []
   },
   "outputs": [
    {
     "data": {
      "text/plain": [
       "tensor([[12.6000, 10.6000, 14.2000, 12.3000, 10.2000,  9.3000,  7.7000],\n",
       "        [13.9000, 12.9000, 17.9000, 12.8000,  8.8000, 12.0000, 10.9000],\n",
       "        [11.3000, 10.2000, 10.6000, 10.4000,  5.4000,  9.4000,  7.0000],\n",
       "        [10.8000, 12.2000,  7.7000, 13.2000,  4.8000, 11.1000, 10.6000],\n",
       "        [11.8000, 11.3000,  9.6000, 11.7000, 10.4000,  9.9000,  7.6000],\n",
       "        [11.9000, 11.5000, 13.9000, 14.1000,  8.5000,  9.3000, 10.3000],\n",
       "        [11.0000, 11.7000, 10.1000, 13.4000, 13.5000,  6.3000,  7.5000],\n",
       "        [10.4000,  9.2000, 12.8000,  6.8000,  5.1000,  6.7000,  7.3000],\n",
       "        [10.1000,  8.7000, 11.0000, 16.2000, 13.2000,  9.4000,  6.3000],\n",
       "        [10.2000,  7.8000, 13.9000, 10.0000,  3.6000,  9.4000,  8.2000]],\n",
       "       dtype=torch.float64)"
      ]
     },
     "execution_count": 6,
     "metadata": {},
     "output_type": "execute_result"
    }
   ],
   "source": [
    "Notes_pt = torch.tensor(Notes, dtype=torch.float64)\n",
    "Notes_pt"
   ]
  },
  {
   "cell_type": "code",
   "execution_count": 7,
   "id": "2f3f7d1a",
   "metadata": {
    "execution": {
     "iopub.execute_input": "2024-03-16T00:17:30.645429Z",
     "iopub.status.busy": "2024-03-16T00:17:30.644321Z",
     "iopub.status.idle": "2024-03-16T00:17:30.657530Z",
     "shell.execute_reply": "2024-03-16T00:17:30.656105Z"
    },
    "papermill": {
     "duration": 0.022996,
     "end_time": "2024-03-16T00:17:30.660345",
     "exception": false,
     "start_time": "2024-03-16T00:17:30.637349",
     "status": "completed"
    },
    "tags": []
   },
   "outputs": [],
   "source": [
    "# define activation function\n",
    "activation_fct_relu = torch.nn.ReLU()\n",
    "\n",
    "# define dense layer and it parameters(7 input features; 2 output features)\n",
    "linear_filter = torch.nn.Linear(7, 2, bias=True)"
   ]
  },
  {
   "cell_type": "code",
   "execution_count": 8,
   "id": "8300ecec",
   "metadata": {
    "execution": {
     "iopub.execute_input": "2024-03-16T00:17:30.674134Z",
     "iopub.status.busy": "2024-03-16T00:17:30.673199Z",
     "iopub.status.idle": "2024-03-16T00:17:30.681698Z",
     "shell.execute_reply": "2024-03-16T00:17:30.680382Z"
    },
    "papermill": {
     "duration": 0.018497,
     "end_time": "2024-03-16T00:17:30.684254",
     "exception": false,
     "start_time": "2024-03-16T00:17:30.665757",
     "status": "completed"
    },
    "tags": []
   },
   "outputs": [],
   "source": [
    "linear_filter.weight.data = torch.tensor([[0.2, 0.2, 0.2, 0.0, 0.0, 0.2, 0.2],\n",
    "                                         [0.0, 0.0, 0.0, 0.5, 0.5, 0.0, 0.0]], \n",
    "                                        dtype=torch.float64)\n",
    "linear_filter.bias.data   = torch.tensor([-10, -10], dtype=torch.float64)"
   ]
  },
  {
   "cell_type": "code",
   "execution_count": 9,
   "id": "3cd1e3d1",
   "metadata": {
    "execution": {
     "iopub.execute_input": "2024-03-16T00:17:30.697265Z",
     "iopub.status.busy": "2024-03-16T00:17:30.696772Z",
     "iopub.status.idle": "2024-03-16T00:17:30.726087Z",
     "shell.execute_reply": "2024-03-16T00:17:30.724134Z"
    },
    "papermill": {
     "duration": 0.03945,
     "end_time": "2024-03-16T00:17:30.728907",
     "exception": false,
     "start_time": "2024-03-16T00:17:30.689457",
     "status": "completed"
    },
    "tags": []
   },
   "outputs": [
    {
     "name": "stdout",
     "output_type": "stream",
     "text": [
      "tensor([[0.8800, 1.2500],\n",
      "        [3.5200, 0.8000],\n",
      "        [0.0000, 0.0000],\n",
      "        [0.4800, 0.0000],\n",
      "        [0.0400, 1.0500],\n",
      "        [1.3800, 1.3000],\n",
      "        [0.0000, 3.4500],\n",
      "        [0.0000, 0.0000],\n",
      "        [0.0000, 4.7000],\n",
      "        [0.0000, 0.0000]], dtype=torch.float64, grad_fn=<ReluBackward0>)\n"
     ]
    }
   ],
   "source": [
    "filtered_data = activation_fct_relu(linear_filter(Notes_pt[:,:]))\n",
    "print(filtered_data)"
   ]
  },
  {
   "cell_type": "code",
   "execution_count": null,
   "id": "d9344785",
   "metadata": {
    "papermill": {
     "duration": 0.005165,
     "end_time": "2024-03-16T00:17:30.739332",
     "exception": false,
     "start_time": "2024-03-16T00:17:30.734167",
     "status": "completed"
    },
    "tags": []
   },
   "outputs": [],
   "source": []
  }
 ],
 "metadata": {
  "kaggle": {
   "accelerator": "none",
   "dataSources": [
    {
     "datasetId": 4607456,
     "sourceId": 7855556,
     "sourceType": "datasetVersion"
    }
   ],
   "dockerImageVersionId": 30664,
   "isGpuEnabled": false,
   "isInternetEnabled": true,
   "language": "python",
   "sourceType": "notebook"
  },
  "kernelspec": {
   "display_name": "Python 3",
   "language": "python",
   "name": "python3"
  },
  "language_info": {
   "codemirror_mode": {
    "name": "ipython",
    "version": 3
   },
   "file_extension": ".py",
   "mimetype": "text/x-python",
   "name": "python",
   "nbconvert_exporter": "python",
   "pygments_lexer": "ipython3",
   "version": "3.10.13"
  },
  "papermill": {
   "default_parameters": {},
   "duration": 10.197313,
   "end_time": "2024-03-16T00:17:32.172212",
   "environment_variables": {},
   "exception": null,
   "input_path": "__notebook__.ipynb",
   "output_path": "__notebook__.ipynb",
   "parameters": {},
   "start_time": "2024-03-16T00:17:21.974899",
   "version": "2.5.0"
  }
 },
 "nbformat": 4,
 "nbformat_minor": 5
}
