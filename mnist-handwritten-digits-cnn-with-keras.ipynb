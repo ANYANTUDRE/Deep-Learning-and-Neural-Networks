{
 "cells": [
  {
   "cell_type": "markdown",
   "id": "4baa64f5",
   "metadata": {
    "papermill": {
     "duration": 0.015117,
     "end_time": "2024-03-31T22:41:17.884307",
     "exception": false,
     "start_time": "2024-03-31T22:41:17.869190",
     "status": "completed"
    },
    "tags": []
   },
   "source": [
    "# **MNIST Handwritten Digits Classification | CNN with Keras**  \n",
    "\n",
    "<p style=\"text-align:center;\"><img src=\"https://upload.wikimedia.org/wikipedia/commons/thumb/f/f7/MnistExamplesModified.png/320px-MnistExamplesModified.png\" alt=\"Logo\"></p>\n",
    "\n",
    "#### **Objective:** Recognizing handwritten numbers.  \n",
    "\n",
    "#### **Dataset:** Modified National Institute of Standards and Technology (MNIST)  \n",
    " \n",
    "\n",
    "#### **Table of Contents:**\n",
    "\n",
    "* **[1️⃣ | Introduction ⭐️](#1)**  \n",
    "\n",
    "* **[2️⃣ | Load Data 🛢](#2)**\n",
    "    * 2.1 🗂 Import packages\n",
    "    * 2.2 🐼 Retrieve datasets  \n",
    "    \n",
    "   \n",
    "* **[3️⃣ | Data exploration 📊](#3)**\n",
    "    * 3.1 👀 Few statistics\n",
    "    * 3.2 🖼 Sample Images\n",
    "    * 3.3 📶 Classes distribution  \n",
    "    \n",
    "    \n",
    "* **[4️⃣ | Data preparation 🛠](#4)**\n",
    "    * 4.1 ✂️ Splitting in train and validation sets¶\n",
    "    * 4.2 ➗ Normalize and reshape images  \n",
    "    \n",
    "    \n",
    "* **[5️⃣ | Build a baseline CNN model 🤖](#5)**\n",
    "    * 5.1 🧩 Model architecture\n",
    "    * 5.2 📚 Compiling model\n",
    "    * 5.3 ↘️ Learning Rate Decay\n",
    "    * 5.4 🏋🏾‍♂️ Training the model\n",
    "    * 5.5 🎯 Model performance\n",
    "    * 5.6    First submission  \n",
    "    \n",
    "    \n",
    "* **[6️⃣ | Data augmentation ⏫](#6)**"
   ]
  },
  {
   "cell_type": "markdown",
   "id": "4136ae07",
   "metadata": {
    "papermill": {
     "duration": 0.01396,
     "end_time": "2024-03-31T22:41:17.913192",
     "exception": false,
     "start_time": "2024-03-31T22:41:17.899232",
     "status": "completed"
    },
    "tags": []
   },
   "source": [
    "<a id=\"1\"></a>\n",
    "# 1️⃣ | Introduction ⭐️\n",
    "\n",
    "![](https://miro.medium.com/v2/resize:fit:3744/format:webp/1*SGPGG7oeSvVlV5sOSQ2iZw.png)\n",
    "\n"
   ]
  },
  {
   "cell_type": "markdown",
   "id": "84d9a4b2",
   "metadata": {
    "papermill": {
     "duration": 0.014306,
     "end_time": "2024-03-31T22:41:17.942344",
     "exception": false,
     "start_time": "2024-03-31T22:41:17.928038",
     "status": "completed"
    },
    "tags": []
   },
   "source": [
    "<a id=\"2\"></a>\n",
    "# 2️⃣ | Load Data 🛢 "
   ]
  },
  {
   "cell_type": "markdown",
   "id": "87316582",
   "metadata": {
    "papermill": {
     "duration": 0.013203,
     "end_time": "2024-03-31T22:41:17.969468",
     "exception": false,
     "start_time": "2024-03-31T22:41:17.956265",
     "status": "completed"
    },
    "tags": []
   },
   "source": [
    "### 🗂 Import packages "
   ]
  },
  {
   "cell_type": "code",
   "execution_count": 1,
   "id": "29476f88",
   "metadata": {
    "_cell_guid": "b1076dfc-b9ad-4769-8c92-a6c4dae69d19",
    "_uuid": "8f2839f25d086af736a60e9eeb907d3b93b6e0e5",
    "execution": {
     "iopub.execute_input": "2024-03-31T22:41:18.000791Z",
     "iopub.status.busy": "2024-03-31T22:41:18.000053Z",
     "iopub.status.idle": "2024-03-31T22:41:38.320016Z",
     "shell.execute_reply": "2024-03-31T22:41:38.318333Z"
    },
    "papermill": {
     "duration": 20.33852,
     "end_time": "2024-03-31T22:41:38.323270",
     "exception": false,
     "start_time": "2024-03-31T22:41:17.984750",
     "status": "completed"
    },
    "tags": []
   },
   "outputs": [
    {
     "name": "stderr",
     "output_type": "stream",
     "text": [
      "2024-03-31 22:41:24.116866: E external/local_xla/xla/stream_executor/cuda/cuda_dnn.cc:9261] Unable to register cuDNN factory: Attempting to register factory for plugin cuDNN when one has already been registered\n",
      "2024-03-31 22:41:24.117030: E external/local_xla/xla/stream_executor/cuda/cuda_fft.cc:607] Unable to register cuFFT factory: Attempting to register factory for plugin cuFFT when one has already been registered\n",
      "2024-03-31 22:41:24.306447: E external/local_xla/xla/stream_executor/cuda/cuda_blas.cc:1515] Unable to register cuBLAS factory: Attempting to register factory for plugin cuBLAS when one has already been registered\n"
     ]
    },
    {
     "name": "stdout",
     "output_type": "stream",
     "text": [
      "tensorflow version: 2.15.0\n"
     ]
    }
   ],
   "source": [
    "# core librairies\n",
    "import numpy as np # linear algebra\n",
    "import pandas as pd # data processing\n",
    "import seaborn as sns\n",
    "import matplotlib.pyplot as plt\n",
    "\n",
    "# scikit-learn\n",
    "from sklearn.model_selection import train_test_split, StratifiedKFold\n",
    "\n",
    "# tensorflow and keras\n",
    "import tensorflow as tf\n",
    "from tensorflow import keras\n",
    "from tensorflow.keras.preprocessing.image import ImageDataGenerator\n",
    "from keras.utils import plot_model\n",
    "print(\"tensorflow version:\", tf.__version__)\n",
    "\n",
    "# handle warnings\n",
    "import warnings\n",
    "warnings.filterwarnings(\"ignore\")"
   ]
  },
  {
   "cell_type": "markdown",
   "id": "abf4d889",
   "metadata": {
    "papermill": {
     "duration": 0.013581,
     "end_time": "2024-03-31T22:41:38.350514",
     "exception": false,
     "start_time": "2024-03-31T22:41:38.336933",
     "status": "completed"
    },
    "tags": []
   },
   "source": [
    "### 🐼 Retrieve datasets"
   ]
  },
  {
   "cell_type": "code",
   "execution_count": 2,
   "id": "d5c9b17a",
   "metadata": {
    "execution": {
     "iopub.execute_input": "2024-03-31T22:41:38.381156Z",
     "iopub.status.busy": "2024-03-31T22:41:38.380029Z",
     "iopub.status.idle": "2024-03-31T22:41:45.995142Z",
     "shell.execute_reply": "2024-03-31T22:41:45.993657Z"
    },
    "papermill": {
     "duration": 7.634145,
     "end_time": "2024-03-31T22:41:45.998440",
     "exception": false,
     "start_time": "2024-03-31T22:41:38.364295",
     "status": "completed"
    },
    "tags": []
   },
   "outputs": [],
   "source": [
    "# importing training and test sets\n",
    "train = pd.read_csv(\"/kaggle/input/digit-recognizer/train.csv\")\n",
    "test  = pd.read_csv(\"/kaggle/input/digit-recognizer/test.csv\")"
   ]
  },
  {
   "cell_type": "markdown",
   "id": "81084ecc",
   "metadata": {
    "papermill": {
     "duration": 0.013535,
     "end_time": "2024-03-31T22:41:46.026505",
     "exception": false,
     "start_time": "2024-03-31T22:41:46.012970",
     "status": "completed"
    },
    "tags": []
   },
   "source": [
    "<a id=\"3\"></a>\n",
    "# 3️⃣ | Data exploration 📊"
   ]
  },
  {
   "cell_type": "code",
   "execution_count": 3,
   "id": "d3b4f272",
   "metadata": {
    "execution": {
     "iopub.execute_input": "2024-03-31T22:41:46.055308Z",
     "iopub.status.busy": "2024-03-31T22:41:46.054728Z",
     "iopub.status.idle": "2024-03-31T22:41:46.086839Z",
     "shell.execute_reply": "2024-03-31T22:41:46.085589Z"
    },
    "papermill": {
     "duration": 0.050579,
     "end_time": "2024-03-31T22:41:46.090221",
     "exception": false,
     "start_time": "2024-03-31T22:41:46.039642",
     "status": "completed"
    },
    "tags": []
   },
   "outputs": [
    {
     "data": {
      "text/html": [
       "<div>\n",
       "<style scoped>\n",
       "    .dataframe tbody tr th:only-of-type {\n",
       "        vertical-align: middle;\n",
       "    }\n",
       "\n",
       "    .dataframe tbody tr th {\n",
       "        vertical-align: top;\n",
       "    }\n",
       "\n",
       "    .dataframe thead th {\n",
       "        text-align: right;\n",
       "    }\n",
       "</style>\n",
       "<table border=\"1\" class=\"dataframe\">\n",
       "  <thead>\n",
       "    <tr style=\"text-align: right;\">\n",
       "      <th></th>\n",
       "      <th>label</th>\n",
       "      <th>pixel0</th>\n",
       "      <th>pixel1</th>\n",
       "      <th>pixel2</th>\n",
       "      <th>pixel3</th>\n",
       "      <th>pixel4</th>\n",
       "      <th>pixel5</th>\n",
       "      <th>pixel6</th>\n",
       "      <th>pixel7</th>\n",
       "      <th>pixel8</th>\n",
       "      <th>...</th>\n",
       "      <th>pixel774</th>\n",
       "      <th>pixel775</th>\n",
       "      <th>pixel776</th>\n",
       "      <th>pixel777</th>\n",
       "      <th>pixel778</th>\n",
       "      <th>pixel779</th>\n",
       "      <th>pixel780</th>\n",
       "      <th>pixel781</th>\n",
       "      <th>pixel782</th>\n",
       "      <th>pixel783</th>\n",
       "    </tr>\n",
       "  </thead>\n",
       "  <tbody>\n",
       "    <tr>\n",
       "      <th>0</th>\n",
       "      <td>1</td>\n",
       "      <td>0</td>\n",
       "      <td>0</td>\n",
       "      <td>0</td>\n",
       "      <td>0</td>\n",
       "      <td>0</td>\n",
       "      <td>0</td>\n",
       "      <td>0</td>\n",
       "      <td>0</td>\n",
       "      <td>0</td>\n",
       "      <td>...</td>\n",
       "      <td>0</td>\n",
       "      <td>0</td>\n",
       "      <td>0</td>\n",
       "      <td>0</td>\n",
       "      <td>0</td>\n",
       "      <td>0</td>\n",
       "      <td>0</td>\n",
       "      <td>0</td>\n",
       "      <td>0</td>\n",
       "      <td>0</td>\n",
       "    </tr>\n",
       "    <tr>\n",
       "      <th>1</th>\n",
       "      <td>0</td>\n",
       "      <td>0</td>\n",
       "      <td>0</td>\n",
       "      <td>0</td>\n",
       "      <td>0</td>\n",
       "      <td>0</td>\n",
       "      <td>0</td>\n",
       "      <td>0</td>\n",
       "      <td>0</td>\n",
       "      <td>0</td>\n",
       "      <td>...</td>\n",
       "      <td>0</td>\n",
       "      <td>0</td>\n",
       "      <td>0</td>\n",
       "      <td>0</td>\n",
       "      <td>0</td>\n",
       "      <td>0</td>\n",
       "      <td>0</td>\n",
       "      <td>0</td>\n",
       "      <td>0</td>\n",
       "      <td>0</td>\n",
       "    </tr>\n",
       "    <tr>\n",
       "      <th>2</th>\n",
       "      <td>1</td>\n",
       "      <td>0</td>\n",
       "      <td>0</td>\n",
       "      <td>0</td>\n",
       "      <td>0</td>\n",
       "      <td>0</td>\n",
       "      <td>0</td>\n",
       "      <td>0</td>\n",
       "      <td>0</td>\n",
       "      <td>0</td>\n",
       "      <td>...</td>\n",
       "      <td>0</td>\n",
       "      <td>0</td>\n",
       "      <td>0</td>\n",
       "      <td>0</td>\n",
       "      <td>0</td>\n",
       "      <td>0</td>\n",
       "      <td>0</td>\n",
       "      <td>0</td>\n",
       "      <td>0</td>\n",
       "      <td>0</td>\n",
       "    </tr>\n",
       "    <tr>\n",
       "      <th>3</th>\n",
       "      <td>4</td>\n",
       "      <td>0</td>\n",
       "      <td>0</td>\n",
       "      <td>0</td>\n",
       "      <td>0</td>\n",
       "      <td>0</td>\n",
       "      <td>0</td>\n",
       "      <td>0</td>\n",
       "      <td>0</td>\n",
       "      <td>0</td>\n",
       "      <td>...</td>\n",
       "      <td>0</td>\n",
       "      <td>0</td>\n",
       "      <td>0</td>\n",
       "      <td>0</td>\n",
       "      <td>0</td>\n",
       "      <td>0</td>\n",
       "      <td>0</td>\n",
       "      <td>0</td>\n",
       "      <td>0</td>\n",
       "      <td>0</td>\n",
       "    </tr>\n",
       "    <tr>\n",
       "      <th>4</th>\n",
       "      <td>0</td>\n",
       "      <td>0</td>\n",
       "      <td>0</td>\n",
       "      <td>0</td>\n",
       "      <td>0</td>\n",
       "      <td>0</td>\n",
       "      <td>0</td>\n",
       "      <td>0</td>\n",
       "      <td>0</td>\n",
       "      <td>0</td>\n",
       "      <td>...</td>\n",
       "      <td>0</td>\n",
       "      <td>0</td>\n",
       "      <td>0</td>\n",
       "      <td>0</td>\n",
       "      <td>0</td>\n",
       "      <td>0</td>\n",
       "      <td>0</td>\n",
       "      <td>0</td>\n",
       "      <td>0</td>\n",
       "      <td>0</td>\n",
       "    </tr>\n",
       "  </tbody>\n",
       "</table>\n",
       "<p>5 rows × 785 columns</p>\n",
       "</div>"
      ],
      "text/plain": [
       "   label  pixel0  pixel1  pixel2  pixel3  pixel4  pixel5  pixel6  pixel7  \\\n",
       "0      1       0       0       0       0       0       0       0       0   \n",
       "1      0       0       0       0       0       0       0       0       0   \n",
       "2      1       0       0       0       0       0       0       0       0   \n",
       "3      4       0       0       0       0       0       0       0       0   \n",
       "4      0       0       0       0       0       0       0       0       0   \n",
       "\n",
       "   pixel8  ...  pixel774  pixel775  pixel776  pixel777  pixel778  pixel779  \\\n",
       "0       0  ...         0         0         0         0         0         0   \n",
       "1       0  ...         0         0         0         0         0         0   \n",
       "2       0  ...         0         0         0         0         0         0   \n",
       "3       0  ...         0         0         0         0         0         0   \n",
       "4       0  ...         0         0         0         0         0         0   \n",
       "\n",
       "   pixel780  pixel781  pixel782  pixel783  \n",
       "0         0         0         0         0  \n",
       "1         0         0         0         0  \n",
       "2         0         0         0         0  \n",
       "3         0         0         0         0  \n",
       "4         0         0         0         0  \n",
       "\n",
       "[5 rows x 785 columns]"
      ]
     },
     "execution_count": 3,
     "metadata": {},
     "output_type": "execute_result"
    }
   ],
   "source": [
    "train.head()"
   ]
  },
  {
   "cell_type": "markdown",
   "id": "c36611e2",
   "metadata": {
    "papermill": {
     "duration": 0.013747,
     "end_time": "2024-03-31T22:41:46.118886",
     "exception": false,
     "start_time": "2024-03-31T22:41:46.105139",
     "status": "completed"
    },
    "tags": []
   },
   "source": [
    "### 👀 Few statistics"
   ]
  },
  {
   "cell_type": "code",
   "execution_count": 4,
   "id": "af9c7623",
   "metadata": {
    "execution": {
     "iopub.execute_input": "2024-03-31T22:41:46.150054Z",
     "iopub.status.busy": "2024-03-31T22:41:46.149554Z",
     "iopub.status.idle": "2024-03-31T22:41:46.156581Z",
     "shell.execute_reply": "2024-03-31T22:41:46.155132Z"
    },
    "papermill": {
     "duration": 0.026078,
     "end_time": "2024-03-31T22:41:46.159597",
     "exception": false,
     "start_time": "2024-03-31T22:41:46.133519",
     "status": "completed"
    },
    "tags": []
   },
   "outputs": [
    {
     "name": "stdout",
     "output_type": "stream",
     "text": [
      "Train size: (42000, 785) | Test size: (28000, 784)\n"
     ]
    }
   ],
   "source": [
    "print(f\"Train size: {train.shape} | Test size: {test.shape}\")"
   ]
  },
  {
   "cell_type": "code",
   "execution_count": 5,
   "id": "505cc682",
   "metadata": {
    "execution": {
     "iopub.execute_input": "2024-03-31T22:41:46.191073Z",
     "iopub.status.busy": "2024-03-31T22:41:46.189441Z",
     "iopub.status.idle": "2024-03-31T22:41:46.260880Z",
     "shell.execute_reply": "2024-03-31T22:41:46.258745Z"
    },
    "papermill": {
     "duration": 0.090331,
     "end_time": "2024-03-31T22:41:46.264063",
     "exception": false,
     "start_time": "2024-03-31T22:41:46.173732",
     "status": "completed"
    },
    "tags": []
   },
   "outputs": [
    {
     "name": "stdout",
     "output_type": "stream",
     "text": [
      "<class 'pandas.core.frame.DataFrame'>\n",
      "RangeIndex: 42000 entries, 0 to 41999\n",
      "Columns: 785 entries, label to pixel783\n",
      "dtypes: int64(785)\n",
      "memory usage: 251.5 MB\n",
      "None\n"
     ]
    }
   ],
   "source": [
    "print(train.info())"
   ]
  },
  {
   "cell_type": "code",
   "execution_count": 6,
   "id": "203f7240",
   "metadata": {
    "execution": {
     "iopub.execute_input": "2024-03-31T22:41:46.295623Z",
     "iopub.status.busy": "2024-03-31T22:41:46.294341Z",
     "iopub.status.idle": "2024-03-31T22:41:46.357737Z",
     "shell.execute_reply": "2024-03-31T22:41:46.356422Z"
    },
    "papermill": {
     "duration": 0.082103,
     "end_time": "2024-03-31T22:41:46.360489",
     "exception": false,
     "start_time": "2024-03-31T22:41:46.278386",
     "status": "completed"
    },
    "tags": []
   },
   "outputs": [
    {
     "name": "stdout",
     "output_type": "stream",
     "text": [
      "Percentage of missing data : \n",
      "\tTrain set: 0.0 % \n",
      "\tTest set : 0.0 %\n"
     ]
    }
   ],
   "source": [
    "percent_missing_train = train.isnull().sum().sum() / np.product(train.shape)\n",
    "percent_missing_test  = test.isnull().sum().sum() / np.product(test.shape)\n",
    "\n",
    "print(f\"Percentage of missing data : \\n\\tTrain set: {percent_missing_train} % \\n\\tTest set : {percent_missing_test} %\")"
   ]
  },
  {
   "cell_type": "markdown",
   "id": "f039cf82",
   "metadata": {
    "papermill": {
     "duration": 0.014012,
     "end_time": "2024-03-31T22:41:46.388888",
     "exception": false,
     "start_time": "2024-03-31T22:41:46.374876",
     "status": "completed"
    },
    "tags": []
   },
   "source": [
    "### 🖼 Sample Images"
   ]
  },
  {
   "cell_type": "code",
   "execution_count": 7,
   "id": "c71b9753",
   "metadata": {
    "execution": {
     "iopub.execute_input": "2024-03-31T22:41:46.422332Z",
     "iopub.status.busy": "2024-03-31T22:41:46.421373Z",
     "iopub.status.idle": "2024-03-31T22:41:46.427136Z",
     "shell.execute_reply": "2024-03-31T22:41:46.426090Z"
    },
    "papermill": {
     "duration": 0.026284,
     "end_time": "2024-03-31T22:41:46.429830",
     "exception": false,
     "start_time": "2024-03-31T22:41:46.403546",
     "status": "completed"
    },
    "tags": []
   },
   "outputs": [],
   "source": [
    "# dictionary for each type of label \n",
    "labels = {0 : \"0\", 1: \"1\", 2: \"2\", 3: \"3\", 4: \"4\",\n",
    "          5: \"5\", 6: \"6\", 7: \"7\", 8: \"8\", 9: \"9\"}"
   ]
  },
  {
   "cell_type": "code",
   "execution_count": 8,
   "id": "bec95cd9",
   "metadata": {
    "execution": {
     "iopub.execute_input": "2024-03-31T22:41:46.461778Z",
     "iopub.status.busy": "2024-03-31T22:41:46.460540Z",
     "iopub.status.idle": "2024-03-31T22:41:46.921770Z",
     "shell.execute_reply": "2024-03-31T22:41:46.920092Z"
    },
    "papermill": {
     "duration": 0.480829,
     "end_time": "2024-03-31T22:41:46.924828",
     "exception": false,
     "start_time": "2024-03-31T22:41:46.443999",
     "status": "completed"
    },
    "tags": []
   },
   "outputs": [
    {
     "name": "stdout",
     "output_type": "stream",
     "text": [
      "Total number of sample images to plot:  40\n"
     ]
    }
   ],
   "source": [
    "def sample_images_data(data):\n",
    "    # An empty list to collect some samples\n",
    "    sample_images = []\n",
    "    sample_labels = []\n",
    "\n",
    "    # Iterate over the keys of the labels dictionary defined in the above cell\n",
    "    for k in labels.keys():\n",
    "        # Get four samples for each category\n",
    "        samples = data[data[\"label\"] == k].head(4)\n",
    "        # Append the samples to the samples list\n",
    "        for j, s in enumerate(samples.values):\n",
    "            # First column contain labels, hence index should start from 1\n",
    "            img = np.array(samples.iloc[j, 1:]).reshape(28, 28)\n",
    "            sample_images.append(img)\n",
    "            sample_labels.append(samples.iloc[j, 0])\n",
    "\n",
    "    print(\"Total number of sample images to plot: \", len(sample_images))\n",
    "    return sample_images, sample_labels\n",
    "\n",
    "train_sample_images, train_sample_labels = sample_images_data(train)"
   ]
  },
  {
   "cell_type": "code",
   "execution_count": 9,
   "id": "67f8a20a",
   "metadata": {
    "execution": {
     "iopub.execute_input": "2024-03-31T22:41:46.956109Z",
     "iopub.status.busy": "2024-03-31T22:41:46.955231Z",
     "iopub.status.idle": "2024-03-31T22:41:49.870952Z",
     "shell.execute_reply": "2024-03-31T22:41:49.869889Z"
    },
    "papermill": {
     "duration": 2.935705,
     "end_time": "2024-03-31T22:41:49.875141",
     "exception": false,
     "start_time": "2024-03-31T22:41:46.939436",
     "status": "completed"
    },
    "tags": []
   },
   "outputs": [
    {
     "data": {
      "image/png": "[encoded data removed]",
      "text/plain": [
       "<Figure size 1400x600 with 40 Axes>"
      ]
     },
     "metadata": {},
     "output_type": "display_data"
    }
   ],
   "source": [
    "def plot_sample_images(data_sample_images,data_sample_labels,cmap=\"Blues\"):\n",
    "    # Plot the sample images now\n",
    "    f, ax = plt.subplots(5,8, figsize=(14,6))\n",
    "\n",
    "    for i, img in enumerate(data_sample_images):\n",
    "        ax[i//8, i%8].imshow(img, cmap=cmap)\n",
    "        ax[i//8, i%8].axis('off')\n",
    "        ax[i//8, i%8].set_title(labels[data_sample_labels[i]])\n",
    "    plt.show()    \n",
    "    \n",
    "plot_sample_images(train_sample_images,train_sample_labels, \"Greens\")"
   ]
  },
  {
   "cell_type": "markdown",
   "id": "dc58b269",
   "metadata": {
    "papermill": {
     "duration": 0.018432,
     "end_time": "2024-03-31T22:41:49.911753",
     "exception": false,
     "start_time": "2024-03-31T22:41:49.893321",
     "status": "completed"
    },
    "tags": []
   },
   "source": [
    "### 📶 Classes distribution"
   ]
  },
  {
   "cell_type": "code",
   "execution_count": 10,
   "id": "cafb80c3",
   "metadata": {
    "execution": {
     "iopub.execute_input": "2024-03-31T22:41:49.950556Z",
     "iopub.status.busy": "2024-03-31T22:41:49.949486Z",
     "iopub.status.idle": "2024-03-31T22:41:50.279382Z",
     "shell.execute_reply": "2024-03-31T22:41:50.277761Z"
    },
    "papermill": {
     "duration": 0.352746,
     "end_time": "2024-03-31T22:41:50.282747",
     "exception": false,
     "start_time": "2024-03-31T22:41:49.930001",
     "status": "completed"
    },
    "tags": []
   },
   "outputs": [
    {
     "data": {
      "image/png": "[encoded data removed]",
      "text/plain": [
       "<Figure size 1000x500 with 1 Axes>"
      ]
     },
     "metadata": {},
     "output_type": "display_data"
    }
   ],
   "source": [
    "plt.figure(figsize=(10, 5))\n",
    "sns.countplot(data=train, x='label')\n",
    "\n",
    "plt.title(\"Classes Distribution in the train set\")\n",
    "plt.show()  "
   ]
  },
  {
   "cell_type": "markdown",
   "id": "a6a760e2",
   "metadata": {
    "papermill": {
     "duration": 0.019214,
     "end_time": "2024-03-31T22:41:50.320607",
     "exception": false,
     "start_time": "2024-03-31T22:41:50.301393",
     "status": "completed"
    },
    "tags": []
   },
   "source": [
    "<a id=\"4\"></a>\n",
    "# 4️⃣ | Data preparation 🛠"
   ]
  },
  {
   "cell_type": "markdown",
   "id": "435e5d50",
   "metadata": {
    "papermill": {
     "duration": 0.019566,
     "end_time": "2024-03-31T22:41:50.361940",
     "exception": false,
     "start_time": "2024-03-31T22:41:50.342374",
     "status": "completed"
    },
    "tags": []
   },
   "source": [
    "### ✂️ Splitting in train and validation sets"
   ]
  },
  {
   "cell_type": "code",
   "execution_count": 11,
   "id": "59276ca9",
   "metadata": {
    "execution": {
     "iopub.execute_input": "2024-03-31T22:41:50.403432Z",
     "iopub.status.busy": "2024-03-31T22:41:50.403003Z",
     "iopub.status.idle": "2024-03-31T22:41:50.785567Z",
     "shell.execute_reply": "2024-03-31T22:41:50.783762Z"
    },
    "papermill": {
     "duration": 0.407196,
     "end_time": "2024-03-31T22:41:50.789182",
     "exception": false,
     "start_time": "2024-03-31T22:41:50.381986",
     "status": "completed"
    },
    "tags": []
   },
   "outputs": [],
   "source": [
    "X = train.drop(\"label\", axis=1)\n",
    "y = train.label\n",
    "\n",
    "X_train, X_val, y_train, y_val = train_test_split(X, y, test_size=0.2)"
   ]
  },
  {
   "cell_type": "markdown",
   "id": "5a2a7eeb",
   "metadata": {
    "papermill": {
     "duration": 0.01786,
     "end_time": "2024-03-31T22:41:50.825468",
     "exception": false,
     "start_time": "2024-03-31T22:41:50.807608",
     "status": "completed"
    },
    "tags": []
   },
   "source": [
    "### ➗ Normalize and reshape images\n",
    "\n",
    "- Performing grayscale normalization (i.e., from [0,255] to [0,1]) allows to reduce the effect of illumination's differences and helps the model to converge faster on data.  \n",
    "**Steps:**  \n",
    "        - Sets the value of inputs between 0–1\n",
    "        - Helps Gradient Descent Converge much faster\n",
    "        - Brings features to equal level and weightage\n",
    "        - Helps remove distortions in an image caused by light and shadows\n",
    "\n",
    "- We have a 1D vector with 784 pixels and we have to reshape it to (28x28x1) before passing it to the CNN. \n",
    "        - This is because Keras wants an Extra Dimension in the end for channels. \n",
    "        - If these images had been RGB images, there would have been 3 channels, but as MNIST is grey scale it only uses 1."
   ]
  },
  {
   "cell_type": "code",
   "execution_count": 12,
   "id": "0cbce905",
   "metadata": {
    "execution": {
     "iopub.execute_input": "2024-03-31T22:41:50.866332Z",
     "iopub.status.busy": "2024-03-31T22:41:50.865927Z",
     "iopub.status.idle": "2024-03-31T22:41:51.004460Z",
     "shell.execute_reply": "2024-03-31T22:41:51.003361Z"
    },
    "papermill": {
     "duration": 0.162175,
     "end_time": "2024-03-31T22:41:51.007713",
     "exception": false,
     "start_time": "2024-03-31T22:41:50.845538",
     "status": "completed"
    },
    "tags": []
   },
   "outputs": [],
   "source": [
    "X_train, X_val =   X_train / 255.0, X_val / 255.0\n",
    "test    = test / 255.0"
   ]
  },
  {
   "cell_type": "code",
   "execution_count": 13,
   "id": "7cad63e7",
   "metadata": {
    "execution": {
     "iopub.execute_input": "2024-03-31T22:41:51.048019Z",
     "iopub.status.busy": "2024-03-31T22:41:51.047232Z",
     "iopub.status.idle": "2024-03-31T22:41:51.053092Z",
     "shell.execute_reply": "2024-03-31T22:41:51.052074Z"
    },
    "papermill": {
     "duration": 0.029467,
     "end_time": "2024-03-31T22:41:51.055839",
     "exception": false,
     "start_time": "2024-03-31T22:41:51.026372",
     "status": "completed"
    },
    "tags": []
   },
   "outputs": [],
   "source": [
    "# reshape (-1 means unspecified)\n",
    "X_train, X_val = X_train.values.reshape(-1, 28, 28, 1), X_val.values.reshape(-1, 28, 28, 1)\n",
    "\n",
    "test_index = test.index\n",
    "test = test.values.reshape(-1, 28, 28, 1)"
   ]
  },
  {
   "cell_type": "markdown",
   "id": "42b25986",
   "metadata": {
    "papermill": {
     "duration": 0.018136,
     "end_time": "2024-03-31T22:41:51.092663",
     "exception": false,
     "start_time": "2024-03-31T22:41:51.074527",
     "status": "completed"
    },
    "tags": []
   },
   "source": [
    "<a id=\"5\"></a>\n",
    "# 5️⃣ | Build a baseline CNN model 🤖"
   ]
  },
  {
   "cell_type": "markdown",
   "id": "1948c1ab",
   "metadata": {
    "papermill": {
     "duration": 0.01807,
     "end_time": "2024-03-31T22:41:51.129285",
     "exception": false,
     "start_time": "2024-03-31T22:41:51.111215",
     "status": "completed"
    },
    "tags": []
   },
   "source": [
    "### 🧩 Model architecture"
   ]
  },
  {
   "cell_type": "code",
   "execution_count": 14,
   "id": "bfb75761",
   "metadata": {
    "execution": {
     "iopub.execute_input": "2024-03-31T22:41:51.168618Z",
     "iopub.status.busy": "2024-03-31T22:41:51.167853Z",
     "iopub.status.idle": "2024-03-31T22:41:51.322185Z",
     "shell.execute_reply": "2024-03-31T22:41:51.320436Z"
    },
    "papermill": {
     "duration": 0.177992,
     "end_time": "2024-03-31T22:41:51.325778",
     "exception": false,
     "start_time": "2024-03-31T22:41:51.147786",
     "status": "completed"
    },
    "tags": []
   },
   "outputs": [],
   "source": [
    "model = keras.models.Sequential([\n",
    "    keras.layers.Conv2D(filters=32, input_shape=(28,28,1), kernel_size=(3,3), padding='same', strides=1,  activation='relu'),\n",
    "    keras.layers.MaxPool2D(pool_size=(2,2), padding='same', strides=1),\n",
    "    \n",
    "    keras.layers.Conv2D(filters=64, kernel_size=(3,3), padding='same', strides=1,  activation='relu'),\n",
    "    keras.layers.MaxPool2D(pool_size=(2,2), padding='same', strides=1),\n",
    "    \n",
    "    keras.layers.Flatten(),\n",
    "    keras.layers.Dense(units=128, activation='relu'),\n",
    "    keras.layers.Dense(units=10,  activation='softmax'),\n",
    "])\n"
   ]
  },
  {
   "cell_type": "markdown",
   "id": "534b3fa0",
   "metadata": {
    "papermill": {
     "duration": 0.018418,
     "end_time": "2024-03-31T22:41:51.363116",
     "exception": false,
     "start_time": "2024-03-31T22:41:51.344698",
     "status": "completed"
    },
    "tags": []
   },
   "source": [
    "### 📚 Compiling model  \n",
    "\n",
    "We need to specify how the model will “learn” its parameters. This is done through the following three steps.\n",
    "\n",
    "- **Optimizer:** The optimizer help us minimize the error function. Ex. RMSprop, Adam, AdaGrad, AdaDelta etc...\n",
    "- **Loss Function:** For Binary Classification use “binary_crossentropy” and for Multi-class Classification use “categorical_crossentropy”\n",
    "- **Metrics:** to evaluate model performance."
   ]
  },
  {
   "cell_type": "code",
   "execution_count": 15,
   "id": "891733f2",
   "metadata": {
    "execution": {
     "iopub.execute_input": "2024-03-31T22:41:51.402990Z",
     "iopub.status.busy": "2024-03-31T22:41:51.402455Z",
     "iopub.status.idle": "2024-03-31T22:41:51.425647Z",
     "shell.execute_reply": "2024-03-31T22:41:51.424024Z"
    },
    "papermill": {
     "duration": 0.047416,
     "end_time": "2024-03-31T22:41:51.429161",
     "exception": false,
     "start_time": "2024-03-31T22:41:51.381745",
     "status": "completed"
    },
    "tags": []
   },
   "outputs": [],
   "source": [
    "# optimizer\n",
    "optimizer = keras.optimizers.Adam(learning_rate=0.001, \n",
    "                                 #beta_1=0.9, \n",
    "                                 #beta_2=0.999\n",
    "                                )\n",
    "\n",
    "model.compile(optimizer=optimizer, \n",
    "              loss='sparse_categorical_crossentropy',\n",
    "              metrics=['accuracy'])"
   ]
  },
  {
   "cell_type": "markdown",
   "id": "dff23267",
   "metadata": {
    "papermill": {
     "duration": 0.018254,
     "end_time": "2024-03-31T22:41:51.466236",
     "exception": false,
     "start_time": "2024-03-31T22:41:51.447982",
     "status": "completed"
    },
    "tags": []
   },
   "source": [
    "### ↘️ Learning Rate Decay  \n",
    "Many optimization algorithms have a constant learning rate, which will often result in not reaching a local minima.  \n",
    "In using a learning rate decay, **the learning rate decreases as the model keeps training**.\n",
    "\n",
    "\n",
    "- **LearningRateScheduler:** takes the step decay function as argument and returns updated learning rates for use in optimizer at every epoch stage.  \n",
    "- **ReduceLRonPlateau:** monitors a quantity and if no improvement is seen for a ‘patience’ number of epochs, then the learning rate is reduced by a factor specified manually."
   ]
  },
  {
   "cell_type": "code",
   "execution_count": 16,
   "id": "6a7bfd6c",
   "metadata": {
    "execution": {
     "iopub.execute_input": "2024-03-31T22:41:51.507402Z",
     "iopub.status.busy": "2024-03-31T22:41:51.506917Z",
     "iopub.status.idle": "2024-03-31T22:41:51.513953Z",
     "shell.execute_reply": "2024-03-31T22:41:51.512184Z"
    },
    "papermill": {
     "duration": 0.031843,
     "end_time": "2024-03-31T22:41:51.517143",
     "exception": false,
     "start_time": "2024-03-31T22:41:51.485300",
     "status": "completed"
    },
    "tags": []
   },
   "outputs": [],
   "source": [
    "# define LearningRateScheduler\n",
    "reduce_lr = keras.callbacks.LearningRateScheduler(lambda x: 1e-3 * 0.9 ** x)"
   ]
  },
  {
   "cell_type": "markdown",
   "id": "d3501ff9",
   "metadata": {
    "papermill": {
     "duration": 0.017673,
     "end_time": "2024-03-31T22:41:51.553787",
     "exception": false,
     "start_time": "2024-03-31T22:41:51.536114",
     "status": "completed"
    },
    "tags": []
   },
   "source": [
    "### 🏋🏾‍♂️ Training the model"
   ]
  },
  {
   "cell_type": "code",
   "execution_count": 17,
   "id": "e02415fa",
   "metadata": {
    "execution": {
     "iopub.execute_input": "2024-03-31T22:41:51.593479Z",
     "iopub.status.busy": "2024-03-31T22:41:51.592924Z",
     "iopub.status.idle": "2024-03-31T23:49:10.438606Z",
     "shell.execute_reply": "2024-03-31T23:49:10.436670Z"
    },
    "papermill": {
     "duration": 4038.870075,
     "end_time": "2024-03-31T23:49:10.442371",
     "exception": false,
     "start_time": "2024-03-31T22:41:51.572296",
     "status": "completed"
    },
    "tags": []
   },
   "outputs": [
    {
     "name": "stdout",
     "output_type": "stream",
     "text": [
      "Epoch 1/30\n",
      "525/525 - 117s - 222ms/step - accuracy: 0.9586 - loss: 0.1345 - val_accuracy: 0.9815 - val_loss: 0.0587\n",
      "Epoch 2/30\n",
      "525/525 - 114s - 217ms/step - accuracy: 0.9863 - loss: 0.0439 - val_accuracy: 0.9798 - val_loss: 0.0630\n",
      "Epoch 3/30\n",
      "525/525 - 142s - 271ms/step - accuracy: 0.9907 - loss: 0.0279 - val_accuracy: 0.9864 - val_loss: 0.0395\n",
      "Epoch 4/30\n",
      "525/525 - 147s - 280ms/step - accuracy: 0.9941 - loss: 0.0172 - val_accuracy: 0.9871 - val_loss: 0.0448\n",
      "Epoch 5/30\n",
      "525/525 - 137s - 260ms/step - accuracy: 0.9962 - loss: 0.0116 - val_accuracy: 0.9854 - val_loss: 0.0536\n",
      "Epoch 6/30\n",
      "525/525 - 114s - 216ms/step - accuracy: 0.9968 - loss: 0.0112 - val_accuracy: 0.9905 - val_loss: 0.0410\n",
      "Epoch 7/30\n",
      "525/525 - 119s - 226ms/step - accuracy: 0.9975 - loss: 0.0072 - val_accuracy: 0.9865 - val_loss: 0.0547\n",
      "Epoch 8/30\n",
      "525/525 - 139s - 265ms/step - accuracy: 0.9973 - loss: 0.0084 - val_accuracy: 0.9874 - val_loss: 0.0497\n",
      "Epoch 9/30\n",
      "525/525 - 142s - 271ms/step - accuracy: 0.9977 - loss: 0.0066 - val_accuracy: 0.9868 - val_loss: 0.0568\n",
      "Epoch 10/30\n",
      "525/525 - 138s - 263ms/step - accuracy: 0.9976 - loss: 0.0072 - val_accuracy: 0.9882 - val_loss: 0.0553\n",
      "Epoch 11/30\n",
      "525/525 - 142s - 271ms/step - accuracy: 0.9975 - loss: 0.0078 - val_accuracy: 0.9868 - val_loss: 0.0537\n",
      "Epoch 12/30\n",
      "525/525 - 113s - 215ms/step - accuracy: 0.9988 - loss: 0.0036 - val_accuracy: 0.9848 - val_loss: 0.0740\n",
      "Epoch 13/30\n",
      "525/525 - 142s - 271ms/step - accuracy: 0.9990 - loss: 0.0034 - val_accuracy: 0.9894 - val_loss: 0.0554\n",
      "Epoch 14/30\n",
      "525/525 - 141s - 269ms/step - accuracy: 0.9990 - loss: 0.0034 - val_accuracy: 0.9888 - val_loss: 0.0603\n",
      "Epoch 15/30\n",
      "525/525 - 115s - 219ms/step - accuracy: 0.9987 - loss: 0.0039 - val_accuracy: 0.9881 - val_loss: 0.0565\n",
      "Epoch 16/30\n",
      "525/525 - 143s - 272ms/step - accuracy: 0.9979 - loss: 0.0067 - val_accuracy: 0.9886 - val_loss: 0.0536\n",
      "Epoch 17/30\n",
      "525/525 - 142s - 271ms/step - accuracy: 0.9986 - loss: 0.0045 - val_accuracy: 0.9857 - val_loss: 0.0623\n",
      "Epoch 18/30\n",
      "525/525 - 140s - 267ms/step - accuracy: 0.9988 - loss: 0.0040 - val_accuracy: 0.9895 - val_loss: 0.0559\n",
      "Epoch 19/30\n",
      "525/525 - 143s - 272ms/step - accuracy: 0.9997 - loss: 0.0011 - val_accuracy: 0.9906 - val_loss: 0.0484\n",
      "Epoch 20/30\n",
      "525/525 - 143s - 272ms/step - accuracy: 0.9994 - loss: 0.0020 - val_accuracy: 0.9855 - val_loss: 0.0877\n",
      "Epoch 21/30\n",
      "525/525 - 143s - 273ms/step - accuracy: 0.9982 - loss: 0.0056 - val_accuracy: 0.9887 - val_loss: 0.0612\n",
      "Epoch 22/30\n",
      "525/525 - 118s - 225ms/step - accuracy: 0.9987 - loss: 0.0047 - val_accuracy: 0.9894 - val_loss: 0.0698\n",
      "Epoch 23/30\n",
      "525/525 - 140s - 267ms/step - accuracy: 0.9995 - loss: 0.0018 - val_accuracy: 0.9906 - val_loss: 0.0668\n",
      "Epoch 24/30\n",
      "525/525 - 116s - 220ms/step - accuracy: 0.9990 - loss: 0.0031 - val_accuracy: 0.9890 - val_loss: 0.0707\n",
      "Epoch 25/30\n",
      "525/525 - 139s - 265ms/step - accuracy: 0.9987 - loss: 0.0040 - val_accuracy: 0.9885 - val_loss: 0.0798\n",
      "Epoch 26/30\n",
      "525/525 - 117s - 222ms/step - accuracy: 0.9990 - loss: 0.0030 - val_accuracy: 0.9886 - val_loss: 0.0736\n",
      "Epoch 27/30\n",
      "525/525 - 141s - 269ms/step - accuracy: 0.9990 - loss: 0.0027 - val_accuracy: 0.9879 - val_loss: 0.0783\n",
      "Epoch 28/30\n",
      "525/525 - 142s - 271ms/step - accuracy: 0.9994 - loss: 0.0020 - val_accuracy: 0.9837 - val_loss: 0.1318\n",
      "Epoch 29/30\n",
      "525/525 - 141s - 269ms/step - accuracy: 0.9994 - loss: 0.0023 - val_accuracy: 0.9888 - val_loss: 0.0766\n",
      "Epoch 30/30\n",
      "525/525 - 141s - 268ms/step - accuracy: 0.9998 - loss: 0.0011 - val_accuracy: 0.9899 - val_loss: 0.0761\n"
     ]
    }
   ],
   "source": [
    "batch_size = 64\n",
    "epochs     = 30\n",
    "\n",
    "history = model.fit(X_train, y_train, \n",
    "                    validation_data=(X_val, y_val), \n",
    "                    batch_size=batch_size, \n",
    "                    epochs=epochs,\n",
    "                    verbose=2)"
   ]
  },
  {
   "cell_type": "markdown",
   "id": "c760a424",
   "metadata": {
    "papermill": {
     "duration": 0.023845,
     "end_time": "2024-03-31T23:49:10.490023",
     "exception": false,
     "start_time": "2024-03-31T23:49:10.466178",
     "status": "completed"
    },
    "tags": []
   },
   "source": [
    "### 🎯 Model performance"
   ]
  },
  {
   "cell_type": "code",
   "execution_count": 18,
   "id": "136d0864",
   "metadata": {
    "execution": {
     "iopub.execute_input": "2024-03-31T23:49:10.540765Z",
     "iopub.status.busy": "2024-03-31T23:49:10.540244Z",
     "iopub.status.idle": "2024-03-31T23:49:10.944243Z",
     "shell.execute_reply": "2024-03-31T23:49:10.942302Z"
    },
    "papermill": {
     "duration": 0.433189,
     "end_time": "2024-03-31T23:49:10.947424",
     "exception": false,
     "start_time": "2024-03-31T23:49:10.514235",
     "status": "completed"
    },
    "tags": []
   },
   "outputs": [
    {
     "data": {
      "image/png": "[encoded data removed]",
      "text/plain": [
       "<Figure size 1300x500 with 1 Axes>"
      ]
     },
     "metadata": {},
     "output_type": "display_data"
    }
   ],
   "source": [
    "plt.figure(figsize=(13, 5))\n",
    "plt.plot(history.history['accuracy'])\n",
    "plt.plot(history.history['val_accuracy'])\n",
    "\n",
    "plt.title('Model Accuracy')\n",
    "plt.xlabel('Epochs')\n",
    "plt.ylabel('Accuracy')\n",
    "plt.legend(['Train','Test'])\n",
    "\n",
    "plt.grid()\n",
    "plt.show()"
   ]
  },
  {
   "cell_type": "markdown",
   "id": "3845e9d7",
   "metadata": {
    "papermill": {
     "duration": 0.02399,
     "end_time": "2024-03-31T23:49:10.996000",
     "exception": false,
     "start_time": "2024-03-31T23:49:10.972010",
     "status": "completed"
    },
    "tags": []
   },
   "source": [
    "### First Submission"
   ]
  },
  {
   "cell_type": "code",
   "execution_count": 19,
   "id": "b59fa001",
   "metadata": {
    "execution": {
     "iopub.execute_input": "2024-03-31T23:49:11.050050Z",
     "iopub.status.busy": "2024-03-31T23:49:11.049464Z",
     "iopub.status.idle": "2024-03-31T23:49:35.754304Z",
     "shell.execute_reply": "2024-03-31T23:49:35.752904Z"
    },
    "papermill": {
     "duration": 24.735051,
     "end_time": "2024-03-31T23:49:35.757488",
     "exception": false,
     "start_time": "2024-03-31T23:49:11.022437",
     "status": "completed"
    },
    "tags": []
   },
   "outputs": [
    {
     "name": "stdout",
     "output_type": "stream",
     "text": [
      "\u001b[1m875/875\u001b[0m \u001b[32m━━━━━━━━━━━━━━━━━━━━\u001b[0m\u001b[37m\u001b[0m \u001b[1m24s\u001b[0m 27ms/step\n"
     ]
    }
   ],
   "source": [
    "# predict results\n",
    "results = model.predict(test)\n",
    "\n",
    "# select the indix with the maximum probability\n",
    "results = np.argmax(results, axis=1)\n",
    "\n",
    "results = pd.Series(results,name=\"Label\")"
   ]
  },
  {
   "cell_type": "code",
   "execution_count": 20,
   "id": "59dfe2cf",
   "metadata": {
    "execution": {
     "iopub.execute_input": "2024-03-31T23:49:35.888910Z",
     "iopub.status.busy": "2024-03-31T23:49:35.888423Z",
     "iopub.status.idle": "2024-03-31T23:49:35.940585Z",
     "shell.execute_reply": "2024-03-31T23:49:35.939324Z"
    },
    "papermill": {
     "duration": 0.122,
     "end_time": "2024-03-31T23:49:35.943736",
     "exception": false,
     "start_time": "2024-03-31T23:49:35.821736",
     "status": "completed"
    },
    "tags": []
   },
   "outputs": [],
   "source": [
    "submission = pd.concat([pd.Series(range(1,28001),name = \"ImageId\"),results],axis = 1)\n",
    "\n",
    "submission.to_csv(\"cnn_mnist_baseline.csv\",index=False)"
   ]
  },
  {
   "cell_type": "markdown",
   "id": "44c82d80",
   "metadata": {
    "papermill": {
     "duration": 0.064264,
     "end_time": "2024-03-31T23:49:36.073204",
     "exception": false,
     "start_time": "2024-03-31T23:49:36.008940",
     "status": "completed"
    },
    "tags": []
   },
   "source": [
    "<a id=\"6\"></a>\n",
    "# 6️⃣ | Data augmentation ⏫\n",
    "\n",
    "In Computer Vision, data augmentation is a powerful technique allowing us to artificially increase the number of images our model sees. **It helps combatting overfitting.**\n",
    "\n",
    "This can be achieved by: \n",
    "- Rotating the Image, \n",
    "- Flipping the Image, \n",
    "- Zooming the Image, \n",
    "- Changing light conditions, \n",
    "- Cropping it etc...\n",
    "\n",
    "But note that these transformations will not always help the model. For example, in our data, a vertical_flip would not be wise a 6 would become a 9, and a 9 would become a 6 !  \n",
    "\n",
    "![](https://miro.medium.com/v2/resize:fit:720/format:webp/1*_C29F53XJHFkNaO5Kw9biQ.jpeg)"
   ]
  },
  {
   "cell_type": "code",
   "execution_count": 21,
   "id": "f332e833",
   "metadata": {
    "execution": {
     "iopub.execute_input": "2024-03-31T23:49:36.207091Z",
     "iopub.status.busy": "2024-03-31T23:49:36.205146Z",
     "iopub.status.idle": "2024-03-31T23:49:36.216760Z",
     "shell.execute_reply": "2024-03-31T23:49:36.215439Z"
    },
    "papermill": {
     "duration": 0.080318,
     "end_time": "2024-03-31T23:49:36.219401",
     "exception": false,
     "start_time": "2024-03-31T23:49:36.139083",
     "status": "completed"
    },
    "tags": []
   },
   "outputs": [
    {
     "data": {
      "text/plain": [
       "'# With data augmentation to prevent overfitting (accuracy 0.99286)\\n\\ndatagen = ImageDataGenerator(\\n                            featurewise_center=False,                # set input mean to 0 over the dataset\\n                            samplewise_center=False,                 # set each sample mean to 0\\n                            featurewise_std_normalization=False,     # divide inputs by std of the dataset\\n                            samplewise_std_normalization=False,      # divide each input by its std\\n                            zca_whitening=False,                     # apply ZCA whitening\\n    \\n                            rotation_range=10,                       # randomly rotate images in the range (degrees, 0 to 180)\\n                            zoom_range = 0.1,                        # Randomly zoom image \\n                            width_shift_range=0.1,                   # randomly shift images horizontally (fraction of total width)\\n                            height_shift_range=0.1,                  # randomly shift images vertically (fraction of total height)\\n                            horizontal_flip=False,                   # randomly flip images\\n                            vertical_flip=False)                     # randomly flip images\\n\\n\\ndatagen.fit(X_train)'"
      ]
     },
     "execution_count": 21,
     "metadata": {},
     "output_type": "execute_result"
    }
   ],
   "source": [
    "\"\"\"# With data augmentation to prevent overfitting (accuracy 0.99286)\n",
    "\n",
    "datagen = ImageDataGenerator(\n",
    "                            featurewise_center=False,                # set input mean to 0 over the dataset\n",
    "                            samplewise_center=False,                 # set each sample mean to 0\n",
    "                            featurewise_std_normalization=False,     # divide inputs by std of the dataset\n",
    "                            samplewise_std_normalization=False,      # divide each input by its std\n",
    "                            zca_whitening=False,                     # apply ZCA whitening\n",
    "    \n",
    "                            rotation_range=10,                       # randomly rotate images in the range (degrees, 0 to 180)\n",
    "                            zoom_range = 0.1,                        # Randomly zoom image \n",
    "                            width_shift_range=0.1,                   # randomly shift images horizontally (fraction of total width)\n",
    "                            height_shift_range=0.1,                  # randomly shift images vertically (fraction of total height)\n",
    "                            horizontal_flip=False,                   # randomly flip images\n",
    "                            vertical_flip=False)                     # randomly flip images\n",
    "\n",
    "\n",
    "datagen.fit(X_train)\"\"\""
   ]
  },
  {
   "cell_type": "markdown",
   "id": "2baf4e63",
   "metadata": {
    "papermill": {
     "duration": 0.064141,
     "end_time": "2024-03-31T23:49:36.349850",
     "exception": false,
     "start_time": "2024-03-31T23:49:36.285709",
     "status": "completed"
    },
    "tags": []
   },
   "source": [
    "### 🧩 Model architecture 2"
   ]
  },
  {
   "cell_type": "code",
   "execution_count": 22,
   "id": "5a94602f",
   "metadata": {
    "execution": {
     "iopub.execute_input": "2024-03-31T23:49:36.483248Z",
     "iopub.status.busy": "2024-03-31T23:49:36.481970Z",
     "iopub.status.idle": "2024-03-31T23:49:36.490710Z",
     "shell.execute_reply": "2024-03-31T23:49:36.489365Z"
    },
    "papermill": {
     "duration": 0.07914,
     "end_time": "2024-03-31T23:49:36.493333",
     "exception": false,
     "start_time": "2024-03-31T23:49:36.414193",
     "status": "completed"
    },
    "tags": []
   },
   "outputs": [
    {
     "data": {
      "text/plain": [
       "'#defining these prior to model to increase readability and debugging\\nbatch_size = 64\\nepochs = 30\\n\\n# Fit the Model\\nhistory = model.fit_generator(datagen.flow(x_train, y_train, batch_size = batch_size), epochs = epochs, \\n                              validation_data = (x_test, y_test), verbose=1, \\n                              steps_per_epoch=x_train.shape[0] // batch_size,\\n                              callbacks = [reduce_lr]) #left out early_stopping parameter as it gets better accuracy\\n'"
      ]
     },
     "execution_count": 22,
     "metadata": {},
     "output_type": "execute_result"
    }
   ],
   "source": [
    "\"\"\"#defining these prior to model to increase readability and debugging\n",
    "batch_size = 64\n",
    "epochs = 30\n",
    "\n",
    "# Fit the Model\n",
    "history = model.fit_generator(datagen.flow(x_train, y_train, batch_size = batch_size), epochs = epochs, \n",
    "                              validation_data = (x_test, y_test), verbose=1, \n",
    "                              steps_per_epoch=x_train.shape[0] // batch_size,\n",
    "                              callbacks = [reduce_lr]) #left out early_stopping parameter as it gets better accuracy\n",
    "\"\"\""
   ]
  },
  {
   "cell_type": "code",
   "execution_count": null,
   "id": "2373f38f",
   "metadata": {
    "papermill": {
     "duration": 0.065782,
     "end_time": "2024-03-31T23:49:36.626057",
     "exception": false,
     "start_time": "2024-03-31T23:49:36.560275",
     "status": "completed"
    },
    "tags": []
   },
   "outputs": [],
   "source": []
  },
  {
   "cell_type": "code",
   "execution_count": null,
   "id": "a3d74158",
   "metadata": {
    "papermill": {
     "duration": 0.064608,
     "end_time": "2024-03-31T23:49:36.755654",
     "exception": false,
     "start_time": "2024-03-31T23:49:36.691046",
     "status": "completed"
    },
    "tags": []
   },
   "outputs": [],
   "source": []
  },
  {
   "cell_type": "code",
   "execution_count": null,
   "id": "d8521ed7",
   "metadata": {
    "papermill": {
     "duration": 0.06774,
     "end_time": "2024-03-31T23:49:36.888346",
     "exception": false,
     "start_time": "2024-03-31T23:49:36.820606",
     "status": "completed"
    },
    "tags": []
   },
   "outputs": [],
   "source": []
  },
  {
   "cell_type": "markdown",
   "id": "61cadaf0",
   "metadata": {
    "papermill": {
     "duration": 0.06661,
     "end_time": "2024-03-31T23:49:37.020401",
     "exception": false,
     "start_time": "2024-03-31T23:49:36.953791",
     "status": "completed"
    },
    "tags": []
   },
   "source": [
    "# References  \n",
    "[1] Digit Recognizer, https://www.kaggle.com/competitions/digit-recognizer  \n",
    "[2] MNIST: Keras Simple CNN (99.6%), https://medium.com/@BrendanArtley/mnist-keras-simple-cnn-99-6-731b624aee7f  \n",
    "[3] Introduction to CNN Keras - 0.997 (top 6%), https://www.kaggle.com/code/yassineghouzam/introduction-to-cnn-keras-0-997-top-6#Introduction-to-CNN-Keras---Acc-0.997-(top-8%)  \n",
    "[4] MNIST - CNN, data augmentation [99.6% accuracy], https://www.kaggle.com/code/samuelcortinhas/mnist-cnn-data-augmentation-99-6-accuracy  "
   ]
  }
 ],
 "metadata": {
  "kaggle": {
   "accelerator": "none",
   "dataSources": [
    {
     "databundleVersionId": 861823,
     "sourceId": 3004,
     "sourceType": "competition"
    }
   ],
   "dockerImageVersionId": 30664,
   "isGpuEnabled": false,
   "isInternetEnabled": true,
   "language": "python",
   "sourceType": "notebook"
  },
  "kernelspec": {
   "display_name": "Python 3",
   "language": "python",
   "name": "python3"
  },
  "language_info": {
   "codemirror_mode": {
    "name": "ipython",
    "version": 3
   },
   "file_extension": ".py",
   "mimetype": "text/x-python",
   "name": "python",
   "nbconvert_exporter": "python",
   "pygments_lexer": "ipython3",
   "version": "3.10.13"
  },
  "papermill": {
   "default_parameters": {},
   "duration": 4106.284315,
   "end_time": "2024-03-31T23:49:39.946097",
   "environment_variables": {},
   "exception": null,
   "input_path": "__notebook__.ipynb",
   "output_path": "__notebook__.ipynb",
   "parameters": {},
   "start_time": "2024-03-31T22:41:13.661782",
   "version": "2.5.0"
  }
 },
 "nbformat": 4,
 "nbformat_minor": 5
}
