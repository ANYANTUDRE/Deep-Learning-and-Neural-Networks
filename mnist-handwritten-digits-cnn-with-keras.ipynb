{
 "cells": [
  {
   "cell_type": "markdown",
   "id": "7342166e",
   "metadata": {
    "papermill": {
     "duration": 0.013202,
     "end_time": "2024-03-31T22:40:47.676180",
     "exception": false,
     "start_time": "2024-03-31T22:40:47.662978",
     "status": "completed"
    },
    "tags": []
   },
   "source": [
    "# **MNIST Handwritten Digits Classification | CNN with Keras**  \n",
    "\n",
    "<p style=\"text-align:center;\"><img src=\"https://upload.wikimedia.org/wikipedia/commons/thumb/f/f7/MnistExamplesModified.png/320px-MnistExamplesModified.png\" alt=\"Logo\"></p>\n",
    "\n",
    "#### **Objective:** Recognizing handwritten numbers.  \n",
    "\n",
    "#### **Dataset:** Modified National Institute of Standards and Technology (MNIST)  \n",
    " \n",
    "\n",
    "#### **Table of Contents:**\n",
    "\n",
    "* **[1️⃣ | Introduction ⭐️](#1)**  \n",
    "\n",
    "* **[2️⃣ | Load Data 🛢](#2)**\n",
    "    * 2.1 🗂 Import packages\n",
    "    * 2.2 🐼 Retrieve datasets  \n",
    "    \n",
    "   \n",
    "* **[3️⃣ | Data exploration 📊](#3)**\n",
    "    * 3.1 👀 Few statistics\n",
    "    * 3.2 🖼 Sample Images\n",
    "    * 3.3 📶 Classes distribution  \n",
    "    \n",
    "    \n",
    "* **[4️⃣ | Data preparation 🛠](#4)**\n",
    "    * 4.1 ✂️ Splitting in train and validation sets¶\n",
    "    * 4.2 ➗ Normalize and reshape images  \n",
    "    \n",
    "    \n",
    "* **[5️⃣ | Build a baseline CNN model 🤖](#5)**\n",
    "    * 5.1 🧩 Model architecture\n",
    "    * 5.2 📚 Compiling model\n",
    "    * 5.3 ↘️ Learning Rate Decay\n",
    "    * 5.4 🏋🏾‍♂️ Training the model\n",
    "    * 5.5 🎯 Model performance\n",
    "    * 5.6    First submission  \n",
    "    \n",
    "    \n",
    "* **[6️⃣ | Data augmentation ⏫](#6)**"
   ]
  },
  {
   "cell_type": "markdown",
   "id": "5d03aba1",
   "metadata": {
    "papermill": {
     "duration": 0.012002,
     "end_time": "2024-03-31T22:40:47.700702",
     "exception": false,
     "start_time": "2024-03-31T22:40:47.688700",
     "status": "completed"
    },
    "tags": []
   },
   "source": [
    "<a id=\"1\"></a>\n",
    "# 1️⃣ | Introduction ⭐️\n",
    "\n",
    "![](https://miro.medium.com/v2/resize:fit:3744/format:webp/1*SGPGG7oeSvVlV5sOSQ2iZw.png)\n",
    "\n"
   ]
  },
  {
   "cell_type": "markdown",
   "id": "75008c42",
   "metadata": {
    "papermill": {
     "duration": 0.011945,
     "end_time": "2024-03-31T22:40:47.724910",
     "exception": false,
     "start_time": "2024-03-31T22:40:47.712965",
     "status": "completed"
    },
    "tags": []
   },
   "source": [
    "<a id=\"2\"></a>\n",
    "# 2️⃣ | Load Data 🛢 "
   ]
  },
  {
   "cell_type": "markdown",
   "id": "a9733294",
   "metadata": {
    "papermill": {
     "duration": 0.012276,
     "end_time": "2024-03-31T22:40:47.749856",
     "exception": false,
     "start_time": "2024-03-31T22:40:47.737580",
     "status": "completed"
    },
    "tags": []
   },
   "source": [
    "### 🗂 Import packages "
   ]
  },
  {
   "cell_type": "code",
   "execution_count": 1,
   "id": "92752db1",
   "metadata": {
    "_cell_guid": "b1076dfc-b9ad-4769-8c92-a6c4dae69d19",
    "_uuid": "8f2839f25d086af736a60e9eeb907d3b93b6e0e5",
    "execution": {
     "iopub.execute_input": "2024-03-31T22:40:47.777415Z",
     "iopub.status.busy": "2024-03-31T22:40:47.776969Z",
     "iopub.status.idle": "2024-03-31T22:41:03.708303Z",
     "shell.execute_reply": "2024-03-31T22:41:03.707415Z"
    },
    "papermill": {
     "duration": 15.947977,
     "end_time": "2024-03-31T22:41:03.710966",
     "exception": false,
     "start_time": "2024-03-31T22:40:47.762989",
     "status": "completed"
    },
    "tags": []
   },
   "outputs": [
    {
     "name": "stderr",
     "output_type": "stream",
     "text": [
      "2024-03-31 22:40:52.481599: E external/local_xla/xla/stream_executor/cuda/cuda_dnn.cc:9261] Unable to register cuDNN factory: Attempting to register factory for plugin cuDNN when one has already been registered\n",
      "2024-03-31 22:40:52.481822: E external/local_xla/xla/stream_executor/cuda/cuda_fft.cc:607] Unable to register cuFFT factory: Attempting to register factory for plugin cuFFT when one has already been registered\n",
      "2024-03-31 22:40:52.633405: E external/local_xla/xla/stream_executor/cuda/cuda_blas.cc:1515] Unable to register cuBLAS factory: Attempting to register factory for plugin cuBLAS when one has already been registered\n"
     ]
    },
    {
     "name": "stdout",
     "output_type": "stream",
     "text": [
      "tensorflow version: 2.15.0\n"
     ]
    }
   ],
   "source": [
    "# core librairies\n",
    "import numpy as np # linear algebra\n",
    "import pandas as pd # data processing\n",
    "import seaborn as sns\n",
    "import matplotlib.pyplot as plt\n",
    "\n",
    "# scikit-learn\n",
    "from sklearn.model_selection import train_test_split, StratifiedKFold\n",
    "\n",
    "# tensorflow and keras\n",
    "import tensorflow as tf\n",
    "from tensorflow import keras\n",
    "from tensorflow.keras.preprocessing.image import ImageDataGenerator\n",
    "from keras.utils import plot_model\n",
    "print(\"tensorflow version:\", tf.__version__)\n",
    "\n",
    "# handle warnings\n",
    "import warnings\n",
    "warnings.filterwarnings(\"ignore\")"
   ]
  },
  {
   "cell_type": "markdown",
   "id": "5f49fbf3",
   "metadata": {
    "papermill": {
     "duration": 0.012379,
     "end_time": "2024-03-31T22:41:03.736378",
     "exception": false,
     "start_time": "2024-03-31T22:41:03.723999",
     "status": "completed"
    },
    "tags": []
   },
   "source": [
    "### 🐼 Retrieve datasets"
   ]
  },
  {
   "cell_type": "code",
   "execution_count": 2,
   "id": "edbdd3ea",
   "metadata": {
    "execution": {
     "iopub.execute_input": "2024-03-31T22:41:03.765686Z",
     "iopub.status.busy": "2024-03-31T22:41:03.764595Z",
     "iopub.status.idle": "2024-03-31T22:41:10.520898Z",
     "shell.execute_reply": "2024-03-31T22:41:10.519737Z"
    },
    "papermill": {
     "duration": 6.774605,
     "end_time": "2024-03-31T22:41:10.524447",
     "exception": false,
     "start_time": "2024-03-31T22:41:03.749842",
     "status": "completed"
    },
    "tags": []
   },
   "outputs": [],
   "source": [
    "# importing training and test sets\n",
    "train = pd.read_csv(\"/kaggle/input/digit-recognizer/train.csv\")\n",
    "test  = pd.read_csv(\"/kaggle/input/digit-recognizer/test.csv\")"
   ]
  },
  {
   "cell_type": "markdown",
   "id": "ba2d9519",
   "metadata": {
    "papermill": {
     "duration": 0.012306,
     "end_time": "2024-03-31T22:41:10.549675",
     "exception": false,
     "start_time": "2024-03-31T22:41:10.537369",
     "status": "completed"
    },
    "tags": []
   },
   "source": [
    "<a id=\"3\"></a>\n",
    "# 3️⃣ | Data exploration 📊"
   ]
  },
  {
   "cell_type": "code",
   "execution_count": 3,
   "id": "62a16252",
   "metadata": {
    "execution": {
     "iopub.execute_input": "2024-03-31T22:41:10.575799Z",
     "iopub.status.busy": "2024-03-31T22:41:10.575325Z",
     "iopub.status.idle": "2024-03-31T22:41:10.602941Z",
     "shell.execute_reply": "2024-03-31T22:41:10.601726Z"
    },
    "papermill": {
     "duration": 0.043638,
     "end_time": "2024-03-31T22:41:10.605487",
     "exception": false,
     "start_time": "2024-03-31T22:41:10.561849",
     "status": "completed"
    },
    "tags": []
   },
   "outputs": [
    {
     "data": {
      "text/html": [
       "<div>\n",
       "<style scoped>\n",
       "    .dataframe tbody tr th:only-of-type {\n",
       "        vertical-align: middle;\n",
       "    }\n",
       "\n",
       "    .dataframe tbody tr th {\n",
       "        vertical-align: top;\n",
       "    }\n",
       "\n",
       "    .dataframe thead th {\n",
       "        text-align: right;\n",
       "    }\n",
       "</style>\n",
       "<table border=\"1\" class=\"dataframe\">\n",
       "  <thead>\n",
       "    <tr style=\"text-align: right;\">\n",
       "      <th></th>\n",
       "      <th>label</th>\n",
       "      <th>pixel0</th>\n",
       "      <th>pixel1</th>\n",
       "      <th>pixel2</th>\n",
       "      <th>pixel3</th>\n",
       "      <th>pixel4</th>\n",
       "      <th>pixel5</th>\n",
       "      <th>pixel6</th>\n",
       "      <th>pixel7</th>\n",
       "      <th>pixel8</th>\n",
       "      <th>...</th>\n",
       "      <th>pixel774</th>\n",
       "      <th>pixel775</th>\n",
       "      <th>pixel776</th>\n",
       "      <th>pixel777</th>\n",
       "      <th>pixel778</th>\n",
       "      <th>pixel779</th>\n",
       "      <th>pixel780</th>\n",
       "      <th>pixel781</th>\n",
       "      <th>pixel782</th>\n",
       "      <th>pixel783</th>\n",
       "    </tr>\n",
       "  </thead>\n",
       "  <tbody>\n",
       "    <tr>\n",
       "      <th>0</th>\n",
       "      <td>1</td>\n",
       "      <td>0</td>\n",
       "      <td>0</td>\n",
       "      <td>0</td>\n",
       "      <td>0</td>\n",
       "      <td>0</td>\n",
       "      <td>0</td>\n",
       "      <td>0</td>\n",
       "      <td>0</td>\n",
       "      <td>0</td>\n",
       "      <td>...</td>\n",
       "      <td>0</td>\n",
       "      <td>0</td>\n",
       "      <td>0</td>\n",
       "      <td>0</td>\n",
       "      <td>0</td>\n",
       "      <td>0</td>\n",
       "      <td>0</td>\n",
       "      <td>0</td>\n",
       "      <td>0</td>\n",
       "      <td>0</td>\n",
       "    </tr>\n",
       "    <tr>\n",
       "      <th>1</th>\n",
       "      <td>0</td>\n",
       "      <td>0</td>\n",
       "      <td>0</td>\n",
       "      <td>0</td>\n",
       "      <td>0</td>\n",
       "      <td>0</td>\n",
       "      <td>0</td>\n",
       "      <td>0</td>\n",
       "      <td>0</td>\n",
       "      <td>0</td>\n",
       "      <td>...</td>\n",
       "      <td>0</td>\n",
       "      <td>0</td>\n",
       "      <td>0</td>\n",
       "      <td>0</td>\n",
       "      <td>0</td>\n",
       "      <td>0</td>\n",
       "      <td>0</td>\n",
       "      <td>0</td>\n",
       "      <td>0</td>\n",
       "      <td>0</td>\n",
       "    </tr>\n",
       "    <tr>\n",
       "      <th>2</th>\n",
       "      <td>1</td>\n",
       "      <td>0</td>\n",
       "      <td>0</td>\n",
       "      <td>0</td>\n",
       "      <td>0</td>\n",
       "      <td>0</td>\n",
       "      <td>0</td>\n",
       "      <td>0</td>\n",
       "      <td>0</td>\n",
       "      <td>0</td>\n",
       "      <td>...</td>\n",
       "      <td>0</td>\n",
       "      <td>0</td>\n",
       "      <td>0</td>\n",
       "      <td>0</td>\n",
       "      <td>0</td>\n",
       "      <td>0</td>\n",
       "      <td>0</td>\n",
       "      <td>0</td>\n",
       "      <td>0</td>\n",
       "      <td>0</td>\n",
       "    </tr>\n",
       "    <tr>\n",
       "      <th>3</th>\n",
       "      <td>4</td>\n",
       "      <td>0</td>\n",
       "      <td>0</td>\n",
       "      <td>0</td>\n",
       "      <td>0</td>\n",
       "      <td>0</td>\n",
       "      <td>0</td>\n",
       "      <td>0</td>\n",
       "      <td>0</td>\n",
       "      <td>0</td>\n",
       "      <td>...</td>\n",
       "      <td>0</td>\n",
       "      <td>0</td>\n",
       "      <td>0</td>\n",
       "      <td>0</td>\n",
       "      <td>0</td>\n",
       "      <td>0</td>\n",
       "      <td>0</td>\n",
       "      <td>0</td>\n",
       "      <td>0</td>\n",
       "      <td>0</td>\n",
       "    </tr>\n",
       "    <tr>\n",
       "      <th>4</th>\n",
       "      <td>0</td>\n",
       "      <td>0</td>\n",
       "      <td>0</td>\n",
       "      <td>0</td>\n",
       "      <td>0</td>\n",
       "      <td>0</td>\n",
       "      <td>0</td>\n",
       "      <td>0</td>\n",
       "      <td>0</td>\n",
       "      <td>0</td>\n",
       "      <td>...</td>\n",
       "      <td>0</td>\n",
       "      <td>0</td>\n",
       "      <td>0</td>\n",
       "      <td>0</td>\n",
       "      <td>0</td>\n",
       "      <td>0</td>\n",
       "      <td>0</td>\n",
       "      <td>0</td>\n",
       "      <td>0</td>\n",
       "      <td>0</td>\n",
       "    </tr>\n",
       "  </tbody>\n",
       "</table>\n",
       "<p>5 rows × 785 columns</p>\n",
       "</div>"
      ],
      "text/plain": [
       "   label  pixel0  pixel1  pixel2  pixel3  pixel4  pixel5  pixel6  pixel7  \\\n",
       "0      1       0       0       0       0       0       0       0       0   \n",
       "1      0       0       0       0       0       0       0       0       0   \n",
       "2      1       0       0       0       0       0       0       0       0   \n",
       "3      4       0       0       0       0       0       0       0       0   \n",
       "4      0       0       0       0       0       0       0       0       0   \n",
       "\n",
       "   pixel8  ...  pixel774  pixel775  pixel776  pixel777  pixel778  pixel779  \\\n",
       "0       0  ...         0         0         0         0         0         0   \n",
       "1       0  ...         0         0         0         0         0         0   \n",
       "2       0  ...         0         0         0         0         0         0   \n",
       "3       0  ...         0         0         0         0         0         0   \n",
       "4       0  ...         0         0         0         0         0         0   \n",
       "\n",
       "   pixel780  pixel781  pixel782  pixel783  \n",
       "0         0         0         0         0  \n",
       "1         0         0         0         0  \n",
       "2         0         0         0         0  \n",
       "3         0         0         0         0  \n",
       "4         0         0         0         0  \n",
       "\n",
       "[5 rows x 785 columns]"
      ]
     },
     "execution_count": 3,
     "metadata": {},
     "output_type": "execute_result"
    }
   ],
   "source": [
    "train.head()"
   ]
  },
  {
   "cell_type": "markdown",
   "id": "8cbcf79b",
   "metadata": {
    "papermill": {
     "duration": 0.012291,
     "end_time": "2024-03-31T22:41:10.630762",
     "exception": false,
     "start_time": "2024-03-31T22:41:10.618471",
     "status": "completed"
    },
    "tags": []
   },
   "source": [
    "### 👀 Few statistics"
   ]
  },
  {
   "cell_type": "code",
   "execution_count": 4,
   "id": "35ff92ac",
   "metadata": {
    "execution": {
     "iopub.execute_input": "2024-03-31T22:41:10.657694Z",
     "iopub.status.busy": "2024-03-31T22:41:10.657214Z",
     "iopub.status.idle": "2024-03-31T22:41:10.663045Z",
     "shell.execute_reply": "2024-03-31T22:41:10.662121Z"
    },
    "papermill": {
     "duration": 0.022013,
     "end_time": "2024-03-31T22:41:10.665399",
     "exception": false,
     "start_time": "2024-03-31T22:41:10.643386",
     "status": "completed"
    },
    "tags": []
   },
   "outputs": [
    {
     "name": "stdout",
     "output_type": "stream",
     "text": [
      "Train size: (42000, 785) | Test size: (28000, 784)\n"
     ]
    }
   ],
   "source": [
    "print(f\"Train size: {train.shape} | Test size: {test.shape}\")"
   ]
  },
  {
   "cell_type": "code",
   "execution_count": 5,
   "id": "e29f2380",
   "metadata": {
    "execution": {
     "iopub.execute_input": "2024-03-31T22:41:10.692637Z",
     "iopub.status.busy": "2024-03-31T22:41:10.691971Z",
     "iopub.status.idle": "2024-03-31T22:41:10.750601Z",
     "shell.execute_reply": "2024-03-31T22:41:10.749109Z"
    },
    "papermill": {
     "duration": 0.075327,
     "end_time": "2024-03-31T22:41:10.753271",
     "exception": false,
     "start_time": "2024-03-31T22:41:10.677944",
     "status": "completed"
    },
    "tags": []
   },
   "outputs": [
    {
     "name": "stdout",
     "output_type": "stream",
     "text": [
      "<class 'pandas.core.frame.DataFrame'>\n",
      "RangeIndex: 42000 entries, 0 to 41999\n",
      "Columns: 785 entries, label to pixel783\n",
      "dtypes: int64(785)\n",
      "memory usage: 251.5 MB\n",
      "None\n"
     ]
    }
   ],
   "source": [
    "print(train.info())"
   ]
  },
  {
   "cell_type": "code",
   "execution_count": 6,
   "id": "55118f44",
   "metadata": {
    "execution": {
     "iopub.execute_input": "2024-03-31T22:41:10.780892Z",
     "iopub.status.busy": "2024-03-31T22:41:10.780488Z",
     "iopub.status.idle": "2024-03-31T22:41:10.840189Z",
     "shell.execute_reply": "2024-03-31T22:41:10.838828Z"
    },
    "papermill": {
     "duration": 0.076216,
     "end_time": "2024-03-31T22:41:10.843058",
     "exception": false,
     "start_time": "2024-03-31T22:41:10.766842",
     "status": "completed"
    },
    "tags": []
   },
   "outputs": [
    {
     "name": "stdout",
     "output_type": "stream",
     "text": [
      "Percentage of missing data : \n",
      "\tTrain set: 0.0 % \n",
      "\tTest set : 0.0 %\n"
     ]
    }
   ],
   "source": [
    "percent_missing_train = train.isnull().sum().sum() / np.product(train.shape)\n",
    "percent_missing_test  = test.isnull().sum().sum() / np.product(test.shape)\n",
    "\n",
    "print(f\"Percentage of missing data : \\n\\tTrain set: {percent_missing_train} % \\n\\tTest set : {percent_missing_test} %\")"
   ]
  },
  {
   "cell_type": "markdown",
   "id": "b7bd504f",
   "metadata": {
    "papermill": {
     "duration": 0.012705,
     "end_time": "2024-03-31T22:41:10.868843",
     "exception": false,
     "start_time": "2024-03-31T22:41:10.856138",
     "status": "completed"
    },
    "tags": []
   },
   "source": [
    "### 🖼 Sample Images"
   ]
  },
  {
   "cell_type": "code",
   "execution_count": 7,
   "id": "aebbb7ac",
   "metadata": {
    "execution": {
     "iopub.execute_input": "2024-03-31T22:41:10.896143Z",
     "iopub.status.busy": "2024-03-31T22:41:10.895747Z",
     "iopub.status.idle": "2024-03-31T22:41:10.901411Z",
     "shell.execute_reply": "2024-03-31T22:41:10.900370Z"
    },
    "papermill": {
     "duration": 0.02252,
     "end_time": "2024-03-31T22:41:10.903914",
     "exception": false,
     "start_time": "2024-03-31T22:41:10.881394",
     "status": "completed"
    },
    "tags": []
   },
   "outputs": [],
   "source": [
    "# dictionary for each type of label \n",
    "labels = {0 : \"0\", 1: \"1\", 2: \"2\", 3: \"3\", 4: \"4\",\n",
    "          5: \"5\", 6: \"6\", 7: \"7\", 8: \"8\", 9: \"9\"}"
   ]
  },
  {
   "cell_type": "code",
   "execution_count": 8,
   "id": "389cf28c",
   "metadata": {
    "execution": {
     "iopub.execute_input": "2024-03-31T22:41:10.931299Z",
     "iopub.status.busy": "2024-03-31T22:41:10.930567Z",
     "iopub.status.idle": "2024-03-31T22:41:11.326846Z",
     "shell.execute_reply": "2024-03-31T22:41:11.324648Z"
    },
    "papermill": {
     "duration": 0.412667,
     "end_time": "2024-03-31T22:41:11.329248",
     "exception": false,
     "start_time": "2024-03-31T22:41:10.916581",
     "status": "completed"
    },
    "tags": []
   },
   "outputs": [
    {
     "name": "stdout",
     "output_type": "stream",
     "text": [
      "Total number of sample images to plot:  40\n"
     ]
    }
   ],
   "source": [
    "def sample_images_data(data):\n",
    "    # An empty list to collect some samples\n",
    "    sample_images = []\n",
    "    sample_labels = []\n",
    "\n",
    "    # Iterate over the keys of the labels dictionary defined in the above cell\n",
    "    for k in labels.keys():\n",
    "        # Get four samples for each category\n",
    "        samples = data[data[\"label\"] == k].head(4)\n",
    "        # Append the samples to the samples list\n",
    "        for j, s in enumerate(samples.values):\n",
    "            # First column contain labels, hence index should start from 1\n",
    "            img = np.array(samples.iloc[j, 1:]).reshape(28, 28)\n",
    "            sample_images.append(img)\n",
    "            sample_labels.append(samples.iloc[j, 0])\n",
    "\n",
    "    print(\"Total number of sample images to plot: \", len(sample_images))\n",
    "    return sample_images, sample_labels\n",
    "\n",
    "train_sample_images, train_sample_labels = sample_images_data(train)"
   ]
  },
  {
   "cell_type": "code",
   "execution_count": 9,
   "id": "3bd8a356",
   "metadata": {
    "execution": {
     "iopub.execute_input": "2024-03-31T22:41:11.360295Z",
     "iopub.status.busy": "2024-03-31T22:41:11.359840Z",
     "iopub.status.idle": "2024-03-31T22:41:14.054548Z",
     "shell.execute_reply": "2024-03-31T22:41:14.053681Z"
    },
    "papermill": {
     "duration": 2.71309,
     "end_time": "2024-03-31T22:41:14.057849",
     "exception": false,
     "start_time": "2024-03-31T22:41:11.344759",
     "status": "completed"
    },
    "tags": []
   },
   "outputs": [
    {
     "data": {
      "image/png": "[encoded data removed]",
      "text/plain": [
       "<Figure size 1400x600 with 40 Axes>"
      ]
     },
     "metadata": {},
     "output_type": "display_data"
    }
   ],
   "source": [
    "def plot_sample_images(data_sample_images,data_sample_labels,cmap=\"Blues\"):\n",
    "    # Plot the sample images now\n",
    "    f, ax = plt.subplots(5,8, figsize=(14,6))\n",
    "\n",
    "    for i, img in enumerate(data_sample_images):\n",
    "        ax[i//8, i%8].imshow(img, cmap=cmap)\n",
    "        ax[i//8, i%8].axis('off')\n",
    "        ax[i//8, i%8].set_title(labels[data_sample_labels[i]])\n",
    "    plt.show()    \n",
    "    \n",
    "plot_sample_images(train_sample_images,train_sample_labels, \"Greens\")"
   ]
  },
  {
   "cell_type": "markdown",
   "id": "f6f51c26",
   "metadata": {
    "papermill": {
     "duration": 0.016184,
     "end_time": "2024-03-31T22:41:14.090858",
     "exception": false,
     "start_time": "2024-03-31T22:41:14.074674",
     "status": "completed"
    },
    "tags": []
   },
   "source": [
    "### 📶 Classes distribution"
   ]
  },
  {
   "cell_type": "code",
   "execution_count": 10,
   "id": "29a6a5be",
   "metadata": {
    "execution": {
     "iopub.execute_input": "2024-03-31T22:41:14.125830Z",
     "iopub.status.busy": "2024-03-31T22:41:14.125357Z",
     "iopub.status.idle": "2024-03-31T22:41:14.428310Z",
     "shell.execute_reply": "2024-03-31T22:41:14.427087Z"
    },
    "papermill": {
     "duration": 0.323632,
     "end_time": "2024-03-31T22:41:14.430972",
     "exception": false,
     "start_time": "2024-03-31T22:41:14.107340",
     "status": "completed"
    },
    "tags": []
   },
   "outputs": [
    {
     "data": {
      "image/png": "[encoded data removed]",
      "text/plain": [
       "<Figure size 1000x500 with 1 Axes>"
      ]
     },
     "metadata": {},
     "output_type": "display_data"
    }
   ],
   "source": [
    "plt.figure(figsize=(10, 5))\n",
    "sns.countplot(data=train, x='label')\n",
    "\n",
    "plt.title(\"Classes Distribution in the train set\")\n",
    "plt.show()  "
   ]
  },
  {
   "cell_type": "markdown",
   "id": "f2d2c69d",
   "metadata": {
    "papermill": {
     "duration": 0.016815,
     "end_time": "2024-03-31T22:41:14.464826",
     "exception": false,
     "start_time": "2024-03-31T22:41:14.448011",
     "status": "completed"
    },
    "tags": []
   },
   "source": [
    "<a id=\"4\"></a>\n",
    "# 4️⃣ | Data preparation 🛠"
   ]
  },
  {
   "cell_type": "markdown",
   "id": "5dd2dbce",
   "metadata": {
    "papermill": {
     "duration": 0.016672,
     "end_time": "2024-03-31T22:41:14.498888",
     "exception": false,
     "start_time": "2024-03-31T22:41:14.482216",
     "status": "completed"
    },
    "tags": []
   },
   "source": [
    "### ✂️ Splitting in train and validation sets"
   ]
  },
  {
   "cell_type": "code",
   "execution_count": 11,
   "id": "c79ce3fb",
   "metadata": {
    "execution": {
     "iopub.execute_input": "2024-03-31T22:41:14.535024Z",
     "iopub.status.busy": "2024-03-31T22:41:14.534237Z",
     "iopub.status.idle": "2024-03-31T22:41:15.038711Z",
     "shell.execute_reply": "2024-03-31T22:41:15.037398Z"
    },
    "papermill": {
     "duration": 0.525553,
     "end_time": "2024-03-31T22:41:15.041479",
     "exception": false,
     "start_time": "2024-03-31T22:41:14.515926",
     "status": "completed"
    },
    "tags": []
   },
   "outputs": [],
   "source": [
    "X = train.drop(\"label\", axis=1)\n",
    "y = train.label\n",
    "\n",
    "X_train, X_val, y_train, y_val = train_test_split(X, y, test_size=0.2)"
   ]
  },
  {
   "cell_type": "markdown",
   "id": "d66480ba",
   "metadata": {
    "papermill": {
     "duration": 0.016796,
     "end_time": "2024-03-31T22:41:15.075625",
     "exception": false,
     "start_time": "2024-03-31T22:41:15.058829",
     "status": "completed"
    },
    "tags": []
   },
   "source": [
    "### ➗ Normalize and reshape images\n",
    "\n",
    "- Performing grayscale normalization (i.e., from [0,255] to [0,1]) allows to reduce the effect of illumination's differences and helps the model to converge faster on data.  \n",
    "**Steps:**  \n",
    "        - Sets the value of inputs between 0–1\n",
    "        - Helps Gradient Descent Converge much faster\n",
    "        - Brings features to equal level and weightage\n",
    "        - Helps remove distortions in an image caused by light and shadows\n",
    "\n",
    "- We have a 1D vector with 784 pixels and we have to reshape it to (28x28x1) before passing it to the CNN. \n",
    "        - This is because Keras wants an Extra Dimension in the end for channels. \n",
    "        - If these images had been RGB images, there would have been 3 channels, but as MNIST is grey scale it only uses 1."
   ]
  },
  {
   "cell_type": "code",
   "execution_count": 12,
   "id": "1b82decb",
   "metadata": {
    "execution": {
     "iopub.execute_input": "2024-03-31T22:41:15.112275Z",
     "iopub.status.busy": "2024-03-31T22:41:15.111339Z",
     "iopub.status.idle": "2024-03-31T22:41:15.247292Z",
     "shell.execute_reply": "2024-03-31T22:41:15.246363Z"
    },
    "papermill": {
     "duration": 0.157253,
     "end_time": "2024-03-31T22:41:15.250060",
     "exception": false,
     "start_time": "2024-03-31T22:41:15.092807",
     "status": "completed"
    },
    "tags": []
   },
   "outputs": [],
   "source": [
    "X_train, X_val =   X_train / 255.0, X_val / 255.0\n",
    "test    = test / 255.0"
   ]
  },
  {
   "cell_type": "code",
   "execution_count": 13,
   "id": "9f229bf9",
   "metadata": {
    "execution": {
     "iopub.execute_input": "2024-03-31T22:41:15.286834Z",
     "iopub.status.busy": "2024-03-31T22:41:15.286437Z",
     "iopub.status.idle": "2024-03-31T22:41:15.291533Z",
     "shell.execute_reply": "2024-03-31T22:41:15.290774Z"
    },
    "papermill": {
     "duration": 0.026287,
     "end_time": "2024-03-31T22:41:15.293634",
     "exception": false,
     "start_time": "2024-03-31T22:41:15.267347",
     "status": "completed"
    },
    "tags": []
   },
   "outputs": [],
   "source": [
    "# reshape (-1 means unspecified)\n",
    "X_train, X_val = X_train.values.reshape(-1, 28, 28, 1), X_val.values.reshape(-1, 28, 28, 1)\n",
    "\n",
    "test_index = test.index\n",
    "test = test.values.reshape(-1, 28, 28, 1)"
   ]
  },
  {
   "cell_type": "markdown",
   "id": "eb19f0c3",
   "metadata": {
    "papermill": {
     "duration": 0.016752,
     "end_time": "2024-03-31T22:41:15.327911",
     "exception": false,
     "start_time": "2024-03-31T22:41:15.311159",
     "status": "completed"
    },
    "tags": []
   },
   "source": [
    "<a id=\"5\"></a>\n",
    "# 5️⃣ | Build a baseline CNN model 🤖"
   ]
  },
  {
   "cell_type": "markdown",
   "id": "081336bb",
   "metadata": {
    "papermill": {
     "duration": 0.018188,
     "end_time": "2024-03-31T22:41:15.363340",
     "exception": false,
     "start_time": "2024-03-31T22:41:15.345152",
     "status": "completed"
    },
    "tags": []
   },
   "source": [
    "### 🧩 Model architecture"
   ]
  },
  {
   "cell_type": "code",
   "execution_count": 14,
   "id": "1f675527",
   "metadata": {
    "execution": {
     "iopub.execute_input": "2024-03-31T22:41:15.399542Z",
     "iopub.status.busy": "2024-03-31T22:41:15.399062Z",
     "iopub.status.idle": "2024-03-31T22:41:15.528542Z",
     "shell.execute_reply": "2024-03-31T22:41:15.527344Z"
    },
    "papermill": {
     "duration": 0.150708,
     "end_time": "2024-03-31T22:41:15.531255",
     "exception": false,
     "start_time": "2024-03-31T22:41:15.380547",
     "status": "completed"
    },
    "tags": []
   },
   "outputs": [],
   "source": [
    "model = keras.models.Sequential([\n",
    "    keras.layers.Conv2D(filters=32, input_shape=(28,28,1), kernel_size=(3,3), padding='same', strides=1,  activation='relu'),\n",
    "    keras.layers.MaxPool2D(pool_size=(2,2), padding='same', strides=1),\n",
    "    \n",
    "    keras.layers.Conv2D(filters=64, kernel_size=(3,3), padding='same', strides=1,  activation='relu'),\n",
    "    keras.layers.MaxPool2D(pool_size=(2,2), padding='same', strides=1),\n",
    "    \n",
    "    keras.layers.Flatten(),\n",
    "    keras.layers.Dense(units=128, activation='relu'),\n",
    "    keras.layers.Dense(units=10,  activation='softmax'),\n",
    "])\n"
   ]
  },
  {
   "cell_type": "markdown",
   "id": "4ab07bc2",
   "metadata": {
    "papermill": {
     "duration": 0.016684,
     "end_time": "2024-03-31T22:41:15.565784",
     "exception": false,
     "start_time": "2024-03-31T22:41:15.549100",
     "status": "completed"
    },
    "tags": []
   },
   "source": [
    "### 📚 Compiling model  \n",
    "\n",
    "We need to specify how the model will “learn” its parameters. This is done through the following three steps.\n",
    "\n",
    "- **Optimizer:** The optimizer help us minimize the error function. Ex. RMSprop, Adam, AdaGrad, AdaDelta etc...\n",
    "- **Loss Function:** For Binary Classification use “binary_crossentropy” and for Multi-class Classification use “categorical_crossentropy”\n",
    "- **Metrics:** to evaluate model performance."
   ]
  },
  {
   "cell_type": "code",
   "execution_count": 15,
   "id": "26f58808",
   "metadata": {
    "execution": {
     "iopub.execute_input": "2024-03-31T22:41:15.603506Z",
     "iopub.status.busy": "2024-03-31T22:41:15.602308Z",
     "iopub.status.idle": "2024-03-31T22:41:15.619213Z",
     "shell.execute_reply": "2024-03-31T22:41:15.618278Z"
    },
    "papermill": {
     "duration": 0.038541,
     "end_time": "2024-03-31T22:41:15.621816",
     "exception": false,
     "start_time": "2024-03-31T22:41:15.583275",
     "status": "completed"
    },
    "tags": []
   },
   "outputs": [],
   "source": [
    "# optimizer\n",
    "optimizer = keras.optimizers.Adam(learning_rate=0.001, \n",
    "                                 #beta_1=0.9, \n",
    "                                 #beta_2=0.999\n",
    "                                )\n",
    "\n",
    "model.compile(optimizer=optimizer, \n",
    "              loss='sparse_categorical_crossentropy',\n",
    "              metrics=['accuracy'])"
   ]
  },
  {
   "cell_type": "markdown",
   "id": "acbc690b",
   "metadata": {
    "papermill": {
     "duration": 0.016721,
     "end_time": "2024-03-31T22:41:15.656167",
     "exception": false,
     "start_time": "2024-03-31T22:41:15.639446",
     "status": "completed"
    },
    "tags": []
   },
   "source": [
    "### ↘️ Learning Rate Decay  \n",
    "Many optimization algorithms have a constant learning rate, which will often result in not reaching a local minima.  \n",
    "In using a learning rate decay, **the learning rate decreases as the model keeps training**.\n",
    "\n",
    "\n",
    "- **LearningRateScheduler:** takes the step decay function as argument and returns updated learning rates for use in optimizer at every epoch stage.  \n",
    "- **ReduceLRonPlateau:** monitors a quantity and if no improvement is seen for a ‘patience’ number of epochs, then the learning rate is reduced by a factor specified manually."
   ]
  },
  {
   "cell_type": "code",
   "execution_count": 16,
   "id": "b27ed9df",
   "metadata": {
    "execution": {
     "iopub.execute_input": "2024-03-31T22:41:15.693387Z",
     "iopub.status.busy": "2024-03-31T22:41:15.691912Z",
     "iopub.status.idle": "2024-03-31T22:41:15.698002Z",
     "shell.execute_reply": "2024-03-31T22:41:15.696926Z"
    },
    "papermill": {
     "duration": 0.026917,
     "end_time": "2024-03-31T22:41:15.700271",
     "exception": false,
     "start_time": "2024-03-31T22:41:15.673354",
     "status": "completed"
    },
    "tags": []
   },
   "outputs": [],
   "source": [
    "# define LearningRateScheduler\n",
    "reduce_lr = keras.callbacks.LearningRateScheduler(lambda x: 1e-3 * 0.9 ** x)"
   ]
  },
  {
   "cell_type": "markdown",
   "id": "f1065f4c",
   "metadata": {
    "papermill": {
     "duration": 0.016695,
     "end_time": "2024-03-31T22:41:15.734130",
     "exception": false,
     "start_time": "2024-03-31T22:41:15.717435",
     "status": "completed"
    },
    "tags": []
   },
   "source": [
    "### 🏋🏾‍♂️ Training the model"
   ]
  },
  {
   "cell_type": "code",
   "execution_count": 17,
   "id": "cecaaefd",
   "metadata": {
    "execution": {
     "iopub.execute_input": "2024-03-31T22:41:15.771472Z",
     "iopub.status.busy": "2024-03-31T22:41:15.770626Z",
     "iopub.status.idle": "2024-03-31T23:45:31.458724Z",
     "shell.execute_reply": "2024-03-31T23:45:31.457457Z"
    },
    "papermill": {
     "duration": 3855.710093,
     "end_time": "2024-03-31T23:45:31.461560",
     "exception": false,
     "start_time": "2024-03-31T22:41:15.751467",
     "status": "completed"
    },
    "tags": []
   },
   "outputs": [
    {
     "name": "stdout",
     "output_type": "stream",
     "text": [
      "Epoch 1/30\n",
      "525/525 - 97s - 184ms/step - accuracy: 0.9579 - loss: 0.1352 - val_accuracy: 0.9749 - val_loss: 0.0794\n",
      "Epoch 2/30\n",
      "525/525 - 139s - 265ms/step - accuracy: 0.9871 - loss: 0.0413 - val_accuracy: 0.9815 - val_loss: 0.0619\n",
      "Epoch 3/30\n",
      "525/525 - 92s - 176ms/step - accuracy: 0.9915 - loss: 0.0240 - val_accuracy: 0.9855 - val_loss: 0.0489\n",
      "Epoch 4/30\n",
      "525/525 - 143s - 273ms/step - accuracy: 0.9946 - loss: 0.0171 - val_accuracy: 0.9861 - val_loss: 0.0488\n",
      "Epoch 5/30\n",
      "525/525 - 143s - 272ms/step - accuracy: 0.9963 - loss: 0.0109 - val_accuracy: 0.9862 - val_loss: 0.0595\n",
      "Epoch 6/30\n",
      "525/525 - 90s - 172ms/step - accuracy: 0.9964 - loss: 0.0104 - val_accuracy: 0.9845 - val_loss: 0.0626\n",
      "Epoch 7/30\n",
      "525/525 - 142s - 270ms/step - accuracy: 0.9975 - loss: 0.0084 - val_accuracy: 0.9842 - val_loss: 0.0663\n",
      "Epoch 8/30\n",
      "525/525 - 142s - 270ms/step - accuracy: 0.9973 - loss: 0.0076 - val_accuracy: 0.9855 - val_loss: 0.0654\n",
      "Epoch 9/30\n",
      "525/525 - 141s - 269ms/step - accuracy: 0.9975 - loss: 0.0072 - val_accuracy: 0.9875 - val_loss: 0.0547\n",
      "Epoch 10/30\n",
      "525/525 - 143s - 273ms/step - accuracy: 0.9981 - loss: 0.0058 - val_accuracy: 0.9868 - val_loss: 0.0608\n",
      "Epoch 11/30\n",
      "525/525 - 142s - 270ms/step - accuracy: 0.9976 - loss: 0.0069 - val_accuracy: 0.9861 - val_loss: 0.0613\n",
      "Epoch 12/30\n",
      "525/525 - 90s - 171ms/step - accuracy: 0.9982 - loss: 0.0053 - val_accuracy: 0.9885 - val_loss: 0.0627\n",
      "Epoch 13/30\n",
      "525/525 - 93s - 176ms/step - accuracy: 0.9990 - loss: 0.0025 - val_accuracy: 0.9862 - val_loss: 0.0734\n",
      "Epoch 14/30\n",
      "525/525 - 105s - 201ms/step - accuracy: 0.9985 - loss: 0.0047 - val_accuracy: 0.9883 - val_loss: 0.0673\n",
      "Epoch 15/30\n",
      "525/525 - 140s - 267ms/step - accuracy: 0.9989 - loss: 0.0034 - val_accuracy: 0.9889 - val_loss: 0.0564\n",
      "Epoch 16/30\n",
      "525/525 - 142s - 270ms/step - accuracy: 0.9975 - loss: 0.0066 - val_accuracy: 0.9888 - val_loss: 0.0701\n",
      "Epoch 17/30\n",
      "525/525 - 105s - 201ms/step - accuracy: 0.9986 - loss: 0.0046 - val_accuracy: 0.9881 - val_loss: 0.0696\n",
      "Epoch 18/30\n",
      "525/525 - 139s - 264ms/step - accuracy: 0.9990 - loss: 0.0034 - val_accuracy: 0.9885 - val_loss: 0.0714\n",
      "Epoch 19/30\n",
      "525/525 - 103s - 196ms/step - accuracy: 0.9991 - loss: 0.0024 - val_accuracy: 0.9873 - val_loss: 0.0697\n",
      "Epoch 20/30\n",
      "525/525 - 144s - 274ms/step - accuracy: 0.9995 - loss: 0.0018 - val_accuracy: 0.9888 - val_loss: 0.0742\n",
      "Epoch 21/30\n",
      "525/525 - 141s - 269ms/step - accuracy: 0.9995 - loss: 0.0018 - val_accuracy: 0.9890 - val_loss: 0.0672\n",
      "Epoch 22/30\n",
      "525/525 - 105s - 199ms/step - accuracy: 0.9999 - loss: 2.4565e-04 - val_accuracy: 0.9894 - val_loss: 0.0774\n",
      "Epoch 23/30\n",
      "525/525 - 141s - 269ms/step - accuracy: 0.9982 - loss: 0.0072 - val_accuracy: 0.9870 - val_loss: 0.0770\n",
      "Epoch 24/30\n",
      "525/525 - 103s - 197ms/step - accuracy: 0.9983 - loss: 0.0051 - val_accuracy: 0.9887 - val_loss: 0.0597\n",
      "Epoch 25/30\n",
      "525/525 - 144s - 274ms/step - accuracy: 0.9995 - loss: 0.0017 - val_accuracy: 0.9907 - val_loss: 0.0578\n",
      "Epoch 26/30\n",
      "525/525 - 142s - 270ms/step - accuracy: 0.9998 - loss: 3.9804e-04 - val_accuracy: 0.9902 - val_loss: 0.0640\n",
      "Epoch 27/30\n",
      "525/525 - 143s - 272ms/step - accuracy: 0.9999 - loss: 2.3286e-04 - val_accuracy: 0.9895 - val_loss: 0.0679\n",
      "Epoch 28/30\n",
      "525/525 - 140s - 266ms/step - accuracy: 1.0000 - loss: 3.0659e-05 - val_accuracy: 0.9908 - val_loss: 0.0656\n",
      "Epoch 29/30\n",
      "525/525 - 141s - 269ms/step - accuracy: 1.0000 - loss: 3.6097e-06 - val_accuracy: 0.9906 - val_loss: 0.0654\n",
      "Epoch 30/30\n",
      "525/525 - 143s - 273ms/step - accuracy: 1.0000 - loss: 1.8233e-06 - val_accuracy: 0.9906 - val_loss: 0.0656\n"
     ]
    }
   ],
   "source": [
    "batch_size = 64\n",
    "epochs     = 30\n",
    "\n",
    "history = model.fit(X_train, y_train, \n",
    "                    validation_data=(X_val, y_val), \n",
    "                    batch_size=batch_size, \n",
    "                    epochs=epochs,\n",
    "                    verbose=2)"
   ]
  },
  {
   "cell_type": "markdown",
   "id": "dd28d768",
   "metadata": {
    "papermill": {
     "duration": 0.022652,
     "end_time": "2024-03-31T23:45:31.507083",
     "exception": false,
     "start_time": "2024-03-31T23:45:31.484431",
     "status": "completed"
    },
    "tags": []
   },
   "source": [
    "### 🎯 Model performance"
   ]
  },
  {
   "cell_type": "code",
   "execution_count": 18,
   "id": "aabfe559",
   "metadata": {
    "execution": {
     "iopub.execute_input": "2024-03-31T23:45:31.555131Z",
     "iopub.status.busy": "2024-03-31T23:45:31.554095Z",
     "iopub.status.idle": "2024-03-31T23:45:31.879560Z",
     "shell.execute_reply": "2024-03-31T23:45:31.878693Z"
    },
    "papermill": {
     "duration": 0.352244,
     "end_time": "2024-03-31T23:45:31.881931",
     "exception": false,
     "start_time": "2024-03-31T23:45:31.529687",
     "status": "completed"
    },
    "tags": []
   },
   "outputs": [
    {
     "data": {
      "image/png": "[encoded data removed]",
      "text/plain": [
       "<Figure size 1300x500 with 1 Axes>"
      ]
     },
     "metadata": {},
     "output_type": "display_data"
    }
   ],
   "source": [
    "plt.figure(figsize=(13, 5))\n",
    "plt.plot(history.history['accuracy'])\n",
    "plt.plot(history.history['val_accuracy'])\n",
    "\n",
    "plt.title('Model Accuracy')\n",
    "plt.xlabel('Epochs')\n",
    "plt.ylabel('Accuracy')\n",
    "plt.legend(['Train','Test'])\n",
    "\n",
    "plt.grid()\n",
    "plt.show()"
   ]
  },
  {
   "cell_type": "markdown",
   "id": "8cd01ead",
   "metadata": {
    "papermill": {
     "duration": 0.023513,
     "end_time": "2024-03-31T23:45:31.929115",
     "exception": false,
     "start_time": "2024-03-31T23:45:31.905602",
     "status": "completed"
    },
    "tags": []
   },
   "source": [
    "### First Submission"
   ]
  },
  {
   "cell_type": "code",
   "execution_count": 19,
   "id": "a0ef28ae",
   "metadata": {
    "execution": {
     "iopub.execute_input": "2024-03-31T23:45:31.978824Z",
     "iopub.status.busy": "2024-03-31T23:45:31.978038Z",
     "iopub.status.idle": "2024-03-31T23:45:52.981291Z",
     "shell.execute_reply": "2024-03-31T23:45:52.980104Z"
    },
    "papermill": {
     "duration": 21.031439,
     "end_time": "2024-03-31T23:45:52.984110",
     "exception": false,
     "start_time": "2024-03-31T23:45:31.952671",
     "status": "completed"
    },
    "tags": []
   },
   "outputs": [
    {
     "name": "stdout",
     "output_type": "stream",
     "text": [
      "\u001b[1m875/875\u001b[0m \u001b[32m━━━━━━━━━━━━━━━━━━━━\u001b[0m\u001b[37m\u001b[0m \u001b[1m20s\u001b[0m 23ms/step\n"
     ]
    }
   ],
   "source": [
    "# predict results\n",
    "results = model.predict(test)\n",
    "\n",
    "# select the indix with the maximum probability\n",
    "results = np.argmax(results, axis=1)\n",
    "\n",
    "results = pd.Series(results,name=\"Label\")"
   ]
  },
  {
   "cell_type": "code",
   "execution_count": 20,
   "id": "ec4f0427",
   "metadata": {
    "execution": {
     "iopub.execute_input": "2024-03-31T23:45:53.093693Z",
     "iopub.status.busy": "2024-03-31T23:45:53.092651Z",
     "iopub.status.idle": "2024-03-31T23:45:53.142123Z",
     "shell.execute_reply": "2024-03-31T23:45:53.140736Z"
    },
    "papermill": {
     "duration": 0.107594,
     "end_time": "2024-03-31T23:45:53.145234",
     "exception": false,
     "start_time": "2024-03-31T23:45:53.037640",
     "status": "completed"
    },
    "tags": []
   },
   "outputs": [],
   "source": [
    "submission = pd.concat([pd.Series(range(1,28001),name = \"ImageId\"),results],axis = 1)\n",
    "\n",
    "submission.to_csv(\"cnn_mnist_baseline.csv\",index=False)"
   ]
  },
  {
   "cell_type": "markdown",
   "id": "5d66a945",
   "metadata": {
    "papermill": {
     "duration": 0.052889,
     "end_time": "2024-03-31T23:45:53.250699",
     "exception": false,
     "start_time": "2024-03-31T23:45:53.197810",
     "status": "completed"
    },
    "tags": []
   },
   "source": [
    "<a id=\"6\"></a>\n",
    "# 6️⃣ | Data augmentation ⏫\n",
    "\n",
    "In Computer Vision, data augmentation is a powerful technique allowing us to artificially increase the number of images our model sees. **It helps combatting overfitting.**\n",
    "\n",
    "This can be achieved by: \n",
    "- Rotating the Image, \n",
    "- Flipping the Image, \n",
    "- Zooming the Image, \n",
    "- Changing light conditions, \n",
    "- Cropping it etc...\n",
    "\n",
    "But note that these transformations will not always help the model. For example, in our data, a vertical_flip would not be wise a 6 would become a 9, and a 9 would become a 6 !  \n",
    "\n",
    "![](https://miro.medium.com/v2/resize:fit:720/format:webp/1*_C29F53XJHFkNaO5Kw9biQ.jpeg)"
   ]
  },
  {
   "cell_type": "code",
   "execution_count": 21,
   "id": "9603cabf",
   "metadata": {
    "execution": {
     "iopub.execute_input": "2024-03-31T23:45:53.359843Z",
     "iopub.status.busy": "2024-03-31T23:45:53.359328Z",
     "iopub.status.idle": "2024-03-31T23:45:53.508682Z",
     "shell.execute_reply": "2024-03-31T23:45:53.507524Z"
    },
    "papermill": {
     "duration": 0.207925,
     "end_time": "2024-03-31T23:45:53.511363",
     "exception": false,
     "start_time": "2024-03-31T23:45:53.303438",
     "status": "completed"
    },
    "tags": []
   },
   "outputs": [],
   "source": [
    "# With data augmentation to prevent overfitting (accuracy 0.99286)\n",
    "\n",
    "datagen = ImageDataGenerator(\n",
    "                            featurewise_center=False,                # set input mean to 0 over the dataset\n",
    "                            samplewise_center=False,                 # set each sample mean to 0\n",
    "                            featurewise_std_normalization=False,     # divide inputs by std of the dataset\n",
    "                            samplewise_std_normalization=False,      # divide each input by its std\n",
    "                            zca_whitening=False,                     # apply ZCA whitening\n",
    "    \n",
    "                            rotation_range=10,                       # randomly rotate images in the range (degrees, 0 to 180)\n",
    "                            zoom_range = 0.1,                        # Randomly zoom image \n",
    "                            width_shift_range=0.1,                   # randomly shift images horizontally (fraction of total width)\n",
    "                            height_shift_range=0.1,                  # randomly shift images vertically (fraction of total height)\n",
    "                            horizontal_flip=False,                   # randomly flip images\n",
    "                            vertical_flip=False)                     # randomly flip images\n",
    "\n",
    "\n",
    "datagen.fit(X_train)"
   ]
  },
  {
   "cell_type": "markdown",
   "id": "6e466d17",
   "metadata": {
    "papermill": {
     "duration": 0.052586,
     "end_time": "2024-03-31T23:45:53.616846",
     "exception": false,
     "start_time": "2024-03-31T23:45:53.564260",
     "status": "completed"
    },
    "tags": []
   },
   "source": [
    "### 🧩 Model architecture 2"
   ]
  },
  {
   "cell_type": "code",
   "execution_count": 22,
   "id": "36105159",
   "metadata": {
    "execution": {
     "iopub.execute_input": "2024-03-31T23:45:53.724591Z",
     "iopub.status.busy": "2024-03-31T23:45:53.724068Z",
     "iopub.status.idle": "2024-03-31T23:45:53.732362Z",
     "shell.execute_reply": "2024-03-31T23:45:53.731174Z"
    },
    "papermill": {
     "duration": 0.065535,
     "end_time": "2024-03-31T23:45:53.735027",
     "exception": false,
     "start_time": "2024-03-31T23:45:53.669492",
     "status": "completed"
    },
    "tags": []
   },
   "outputs": [
    {
     "data": {
      "text/plain": [
       "'#defining these prior to model to increase readability and debugging\\nbatch_size = 64\\nepochs = 30\\n\\n# Fit the Model\\nhistory = model.fit_generator(datagen.flow(x_train, y_train, batch_size = batch_size), epochs = epochs, \\n                              validation_data = (x_test, y_test), verbose=1, \\n                              steps_per_epoch=x_train.shape[0] // batch_size,\\n                              callbacks = [reduce_lr]) #left out early_stopping parameter as it gets better accuracy\\n'"
      ]
     },
     "execution_count": 22,
     "metadata": {},
     "output_type": "execute_result"
    }
   ],
   "source": [
    "\"\"\"#defining these prior to model to increase readability and debugging\n",
    "batch_size = 64\n",
    "epochs = 30\n",
    "\n",
    "# Fit the Model\n",
    "history = model.fit_generator(datagen.flow(x_train, y_train, batch_size = batch_size), epochs = epochs, \n",
    "                              validation_data = (x_test, y_test), verbose=1, \n",
    "                              steps_per_epoch=x_train.shape[0] // batch_size,\n",
    "                              callbacks = [reduce_lr]) #left out early_stopping parameter as it gets better accuracy\n",
    "\"\"\""
   ]
  },
  {
   "cell_type": "code",
   "execution_count": null,
   "id": "d1e6e567",
   "metadata": {
    "papermill": {
     "duration": 0.05324,
     "end_time": "2024-03-31T23:45:53.842473",
     "exception": false,
     "start_time": "2024-03-31T23:45:53.789233",
     "status": "completed"
    },
    "tags": []
   },
   "outputs": [],
   "source": []
  },
  {
   "cell_type": "code",
   "execution_count": null,
   "id": "5fb49fd2",
   "metadata": {
    "papermill": {
     "duration": 0.054642,
     "end_time": "2024-03-31T23:45:53.950280",
     "exception": false,
     "start_time": "2024-03-31T23:45:53.895638",
     "status": "completed"
    },
    "tags": []
   },
   "outputs": [],
   "source": []
  },
  {
   "cell_type": "code",
   "execution_count": null,
   "id": "b593ce8a",
   "metadata": {
    "papermill": {
     "duration": 0.05345,
     "end_time": "2024-03-31T23:45:54.058470",
     "exception": false,
     "start_time": "2024-03-31T23:45:54.005020",
     "status": "completed"
    },
    "tags": []
   },
   "outputs": [],
   "source": []
  },
  {
   "cell_type": "markdown",
   "id": "75f5eda6",
   "metadata": {
    "papermill": {
     "duration": 0.052449,
     "end_time": "2024-03-31T23:45:54.163739",
     "exception": false,
     "start_time": "2024-03-31T23:45:54.111290",
     "status": "completed"
    },
    "tags": []
   },
   "source": [
    "# References  \n",
    "[1] Digit Recognizer, https://www.kaggle.com/competitions/digit-recognizer  \n",
    "[2] MNIST: Keras Simple CNN (99.6%), https://medium.com/@BrendanArtley/mnist-keras-simple-cnn-99-6-731b624aee7f  \n",
    "[3] Introduction to CNN Keras - 0.997 (top 6%), https://www.kaggle.com/code/yassineghouzam/introduction-to-cnn-keras-0-997-top-6#Introduction-to-CNN-Keras---Acc-0.997-(top-8%)  \n",
    "[4] MNIST - CNN, data augmentation [99.6% accuracy], https://www.kaggle.com/code/samuelcortinhas/mnist-cnn-data-augmentation-99-6-accuracy  "
   ]
  }
 ],
 "metadata": {
  "kaggle": {
   "accelerator": "none",
   "dataSources": [
    {
     "databundleVersionId": 861823,
     "sourceId": 3004,
     "sourceType": "competition"
    }
   ],
   "dockerImageVersionId": 30664,
   "isGpuEnabled": false,
   "isInternetEnabled": true,
   "language": "python",
   "sourceType": "notebook"
  },
  "kernelspec": {
   "display_name": "Python 3",
   "language": "python",
   "name": "python3"
  },
  "language_info": {
   "codemirror_mode": {
    "name": "ipython",
    "version": 3
   },
   "file_extension": ".py",
   "mimetype": "text/x-python",
   "name": "python",
   "nbconvert_exporter": "python",
   "pygments_lexer": "ipython3",
   "version": "3.10.13"
  },
  "papermill": {
   "default_parameters": {},
   "duration": 3912.746391,
   "end_time": "2024-03-31T23:45:57.349327",
   "environment_variables": {},
   "exception": null,
   "input_path": "__notebook__.ipynb",
   "output_path": "__notebook__.ipynb",
   "parameters": {},
   "start_time": "2024-03-31T22:40:44.602936",
   "version": "2.5.0"
  }
 },
 "nbformat": 4,
 "nbformat_minor": 5
}
